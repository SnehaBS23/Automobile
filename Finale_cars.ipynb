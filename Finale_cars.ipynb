{
 "cells": [
  {
   "cell_type": "code",
   "execution_count": 79,
   "id": "0a679023",
   "metadata": {
    "scrolled": true
   },
   "outputs": [],
   "source": [
    "import pandas as pd\n",
    "import numpy as np\n",
    "import matplotlib.pyplot as plt\n",
    "import seaborn as sns"
   ]
  },
  {
   "cell_type": "code",
   "execution_count": 80,
   "id": "239c3302",
   "metadata": {
    "scrolled": true
   },
   "outputs": [],
   "source": [
    "df=pd.read_csv(\"cars.csv\")"
   ]
  },
  {
   "cell_type": "code",
   "execution_count": 81,
   "id": "908307d6",
   "metadata": {
    "scrolled": false
   },
   "outputs": [
    {
     "data": {
      "text/html": [
       "<div>\n",
       "<style scoped>\n",
       "    .dataframe tbody tr th:only-of-type {\n",
       "        vertical-align: middle;\n",
       "    }\n",
       "\n",
       "    .dataframe tbody tr th {\n",
       "        vertical-align: top;\n",
       "    }\n",
       "\n",
       "    .dataframe thead th {\n",
       "        text-align: right;\n",
       "    }\n",
       "</style>\n",
       "<table border=\"1\" class=\"dataframe\">\n",
       "  <thead>\n",
       "    <tr style=\"text-align: right;\">\n",
       "      <th></th>\n",
       "      <th>symboling</th>\n",
       "      <th>normalized-losses</th>\n",
       "      <th>make</th>\n",
       "      <th>fuel-type</th>\n",
       "      <th>body-style</th>\n",
       "      <th>drive-wheels</th>\n",
       "      <th>engine-location</th>\n",
       "      <th>width</th>\n",
       "      <th>height</th>\n",
       "      <th>engine-type</th>\n",
       "      <th>engine-size</th>\n",
       "      <th>horsepower</th>\n",
       "      <th>city-mpg</th>\n",
       "      <th>highway-mpg</th>\n",
       "      <th>price</th>\n",
       "    </tr>\n",
       "  </thead>\n",
       "  <tbody>\n",
       "    <tr>\n",
       "      <th>0</th>\n",
       "      <td>3</td>\n",
       "      <td>?</td>\n",
       "      <td>alfa-romero</td>\n",
       "      <td>gas</td>\n",
       "      <td>convertible</td>\n",
       "      <td>rwd</td>\n",
       "      <td>front</td>\n",
       "      <td>64.1</td>\n",
       "      <td>48.8</td>\n",
       "      <td>dohc</td>\n",
       "      <td>130</td>\n",
       "      <td>111</td>\n",
       "      <td>21</td>\n",
       "      <td>27</td>\n",
       "      <td>13495</td>\n",
       "    </tr>\n",
       "    <tr>\n",
       "      <th>1</th>\n",
       "      <td>3</td>\n",
       "      <td>?</td>\n",
       "      <td>alfa-romero</td>\n",
       "      <td>gas</td>\n",
       "      <td>convertible</td>\n",
       "      <td>rwd</td>\n",
       "      <td>front</td>\n",
       "      <td>64.1</td>\n",
       "      <td>48.8</td>\n",
       "      <td>dohc</td>\n",
       "      <td>130</td>\n",
       "      <td>111</td>\n",
       "      <td>21</td>\n",
       "      <td>27</td>\n",
       "      <td>16500</td>\n",
       "    </tr>\n",
       "    <tr>\n",
       "      <th>2</th>\n",
       "      <td>1</td>\n",
       "      <td>?</td>\n",
       "      <td>alfa-romero</td>\n",
       "      <td>gas</td>\n",
       "      <td>hatchback</td>\n",
       "      <td>rwd</td>\n",
       "      <td>front</td>\n",
       "      <td>65.5</td>\n",
       "      <td>52.4</td>\n",
       "      <td>ohcv</td>\n",
       "      <td>152</td>\n",
       "      <td>154</td>\n",
       "      <td>19</td>\n",
       "      <td>26</td>\n",
       "      <td>16500</td>\n",
       "    </tr>\n",
       "    <tr>\n",
       "      <th>3</th>\n",
       "      <td>2</td>\n",
       "      <td>164</td>\n",
       "      <td>audi</td>\n",
       "      <td>gas</td>\n",
       "      <td>sedan</td>\n",
       "      <td>fwd</td>\n",
       "      <td>front</td>\n",
       "      <td>66.2</td>\n",
       "      <td>54.3</td>\n",
       "      <td>ohc</td>\n",
       "      <td>109</td>\n",
       "      <td>102</td>\n",
       "      <td>24</td>\n",
       "      <td>30</td>\n",
       "      <td>13950</td>\n",
       "    </tr>\n",
       "    <tr>\n",
       "      <th>4</th>\n",
       "      <td>2</td>\n",
       "      <td>164</td>\n",
       "      <td>audi</td>\n",
       "      <td>gas</td>\n",
       "      <td>sedan</td>\n",
       "      <td>4wd</td>\n",
       "      <td>front</td>\n",
       "      <td>66.4</td>\n",
       "      <td>54.3</td>\n",
       "      <td>ohc</td>\n",
       "      <td>136</td>\n",
       "      <td>115</td>\n",
       "      <td>18</td>\n",
       "      <td>22</td>\n",
       "      <td>17450</td>\n",
       "    </tr>\n",
       "    <tr>\n",
       "      <th>...</th>\n",
       "      <td>...</td>\n",
       "      <td>...</td>\n",
       "      <td>...</td>\n",
       "      <td>...</td>\n",
       "      <td>...</td>\n",
       "      <td>...</td>\n",
       "      <td>...</td>\n",
       "      <td>...</td>\n",
       "      <td>...</td>\n",
       "      <td>...</td>\n",
       "      <td>...</td>\n",
       "      <td>...</td>\n",
       "      <td>...</td>\n",
       "      <td>...</td>\n",
       "      <td>...</td>\n",
       "    </tr>\n",
       "    <tr>\n",
       "      <th>200</th>\n",
       "      <td>-1</td>\n",
       "      <td>95</td>\n",
       "      <td>volvo</td>\n",
       "      <td>gas</td>\n",
       "      <td>sedan</td>\n",
       "      <td>rwd</td>\n",
       "      <td>front</td>\n",
       "      <td>68.9</td>\n",
       "      <td>55.5</td>\n",
       "      <td>ohc</td>\n",
       "      <td>141</td>\n",
       "      <td>114</td>\n",
       "      <td>23</td>\n",
       "      <td>28</td>\n",
       "      <td>16845</td>\n",
       "    </tr>\n",
       "    <tr>\n",
       "      <th>201</th>\n",
       "      <td>-1</td>\n",
       "      <td>95</td>\n",
       "      <td>volvo</td>\n",
       "      <td>gas</td>\n",
       "      <td>sedan</td>\n",
       "      <td>rwd</td>\n",
       "      <td>front</td>\n",
       "      <td>68.8</td>\n",
       "      <td>55.5</td>\n",
       "      <td>ohc</td>\n",
       "      <td>141</td>\n",
       "      <td>160</td>\n",
       "      <td>19</td>\n",
       "      <td>25</td>\n",
       "      <td>19045</td>\n",
       "    </tr>\n",
       "    <tr>\n",
       "      <th>202</th>\n",
       "      <td>-1</td>\n",
       "      <td>95</td>\n",
       "      <td>volvo</td>\n",
       "      <td>gas</td>\n",
       "      <td>sedan</td>\n",
       "      <td>rwd</td>\n",
       "      <td>front</td>\n",
       "      <td>68.9</td>\n",
       "      <td>55.5</td>\n",
       "      <td>ohcv</td>\n",
       "      <td>173</td>\n",
       "      <td>134</td>\n",
       "      <td>18</td>\n",
       "      <td>23</td>\n",
       "      <td>21485</td>\n",
       "    </tr>\n",
       "    <tr>\n",
       "      <th>203</th>\n",
       "      <td>-1</td>\n",
       "      <td>95</td>\n",
       "      <td>volvo</td>\n",
       "      <td>diesel</td>\n",
       "      <td>sedan</td>\n",
       "      <td>rwd</td>\n",
       "      <td>front</td>\n",
       "      <td>68.9</td>\n",
       "      <td>55.5</td>\n",
       "      <td>ohc</td>\n",
       "      <td>145</td>\n",
       "      <td>106</td>\n",
       "      <td>26</td>\n",
       "      <td>27</td>\n",
       "      <td>22470</td>\n",
       "    </tr>\n",
       "    <tr>\n",
       "      <th>204</th>\n",
       "      <td>-1</td>\n",
       "      <td>95</td>\n",
       "      <td>volvo</td>\n",
       "      <td>gas</td>\n",
       "      <td>sedan</td>\n",
       "      <td>rwd</td>\n",
       "      <td>front</td>\n",
       "      <td>68.9</td>\n",
       "      <td>55.5</td>\n",
       "      <td>ohc</td>\n",
       "      <td>141</td>\n",
       "      <td>114</td>\n",
       "      <td>19</td>\n",
       "      <td>25</td>\n",
       "      <td>22625</td>\n",
       "    </tr>\n",
       "  </tbody>\n",
       "</table>\n",
       "<p>205 rows × 15 columns</p>\n",
       "</div>"
      ],
      "text/plain": [
       "     symboling normalized-losses         make fuel-type   body-style  \\\n",
       "0            3                 ?  alfa-romero       gas  convertible   \n",
       "1            3                 ?  alfa-romero       gas  convertible   \n",
       "2            1                 ?  alfa-romero       gas    hatchback   \n",
       "3            2               164         audi       gas        sedan   \n",
       "4            2               164         audi       gas        sedan   \n",
       "..         ...               ...          ...       ...          ...   \n",
       "200         -1                95        volvo       gas        sedan   \n",
       "201         -1                95        volvo       gas        sedan   \n",
       "202         -1                95        volvo       gas        sedan   \n",
       "203         -1                95        volvo    diesel        sedan   \n",
       "204         -1                95        volvo       gas        sedan   \n",
       "\n",
       "    drive-wheels engine-location  width  height engine-type  engine-size  \\\n",
       "0            rwd           front   64.1    48.8        dohc          130   \n",
       "1            rwd           front   64.1    48.8        dohc          130   \n",
       "2            rwd           front   65.5    52.4        ohcv          152   \n",
       "3            fwd           front   66.2    54.3         ohc          109   \n",
       "4            4wd           front   66.4    54.3         ohc          136   \n",
       "..           ...             ...    ...     ...         ...          ...   \n",
       "200          rwd           front   68.9    55.5         ohc          141   \n",
       "201          rwd           front   68.8    55.5         ohc          141   \n",
       "202          rwd           front   68.9    55.5        ohcv          173   \n",
       "203          rwd           front   68.9    55.5         ohc          145   \n",
       "204          rwd           front   68.9    55.5         ohc          141   \n",
       "\n",
       "    horsepower  city-mpg  highway-mpg  price  \n",
       "0          111        21           27  13495  \n",
       "1          111        21           27  16500  \n",
       "2          154        19           26  16500  \n",
       "3          102        24           30  13950  \n",
       "4          115        18           22  17450  \n",
       "..         ...       ...          ...    ...  \n",
       "200        114        23           28  16845  \n",
       "201        160        19           25  19045  \n",
       "202        134        18           23  21485  \n",
       "203        106        26           27  22470  \n",
       "204        114        19           25  22625  \n",
       "\n",
       "[205 rows x 15 columns]"
      ]
     },
     "execution_count": 81,
     "metadata": {},
     "output_type": "execute_result"
    }
   ],
   "source": [
    "df"
   ]
  },
  {
   "cell_type": "code",
   "execution_count": 82,
   "id": "adc43e4f",
   "metadata": {
    "scrolled": true
   },
   "outputs": [
    {
     "data": {
      "text/plain": [
       "(205, 15)"
      ]
     },
     "execution_count": 82,
     "metadata": {},
     "output_type": "execute_result"
    }
   ],
   "source": [
    "df.shape"
   ]
  },
  {
   "cell_type": "code",
   "execution_count": 83,
   "id": "34cfbf7a",
   "metadata": {
    "scrolled": true
   },
   "outputs": [
    {
     "data": {
      "text/plain": [
       "Index(['symboling', 'normalized-losses', 'make', 'fuel-type', 'body-style',\n",
       "       'drive-wheels', 'engine-location', 'width', 'height', 'engine-type',\n",
       "       'engine-size', 'horsepower', 'city-mpg', 'highway-mpg', 'price'],\n",
       "      dtype='object')"
      ]
     },
     "execution_count": 83,
     "metadata": {},
     "output_type": "execute_result"
    }
   ],
   "source": [
    "df.columns"
   ]
  },
  {
   "cell_type": "code",
   "execution_count": 84,
   "id": "e7ef6a13",
   "metadata": {
    "scrolled": true
   },
   "outputs": [
    {
     "data": {
      "text/html": [
       "<div>\n",
       "<style scoped>\n",
       "    .dataframe tbody tr th:only-of-type {\n",
       "        vertical-align: middle;\n",
       "    }\n",
       "\n",
       "    .dataframe tbody tr th {\n",
       "        vertical-align: top;\n",
       "    }\n",
       "\n",
       "    .dataframe thead th {\n",
       "        text-align: right;\n",
       "    }\n",
       "</style>\n",
       "<table border=\"1\" class=\"dataframe\">\n",
       "  <thead>\n",
       "    <tr style=\"text-align: right;\">\n",
       "      <th></th>\n",
       "      <th>symboling</th>\n",
       "      <th>normalized-losses</th>\n",
       "      <th>make</th>\n",
       "      <th>fuel-type</th>\n",
       "      <th>body-style</th>\n",
       "      <th>drive-wheels</th>\n",
       "      <th>engine-location</th>\n",
       "      <th>width</th>\n",
       "      <th>height</th>\n",
       "      <th>engine-type</th>\n",
       "      <th>engine-size</th>\n",
       "      <th>horsepower</th>\n",
       "      <th>city-mpg</th>\n",
       "      <th>highway-mpg</th>\n",
       "      <th>price</th>\n",
       "    </tr>\n",
       "  </thead>\n",
       "  <tbody>\n",
       "    <tr>\n",
       "      <th>0</th>\n",
       "      <td>3</td>\n",
       "      <td>?</td>\n",
       "      <td>alfa-romero</td>\n",
       "      <td>gas</td>\n",
       "      <td>convertible</td>\n",
       "      <td>rwd</td>\n",
       "      <td>front</td>\n",
       "      <td>64.1</td>\n",
       "      <td>48.8</td>\n",
       "      <td>dohc</td>\n",
       "      <td>130</td>\n",
       "      <td>111</td>\n",
       "      <td>21</td>\n",
       "      <td>27</td>\n",
       "      <td>13495</td>\n",
       "    </tr>\n",
       "    <tr>\n",
       "      <th>1</th>\n",
       "      <td>3</td>\n",
       "      <td>?</td>\n",
       "      <td>alfa-romero</td>\n",
       "      <td>gas</td>\n",
       "      <td>convertible</td>\n",
       "      <td>rwd</td>\n",
       "      <td>front</td>\n",
       "      <td>64.1</td>\n",
       "      <td>48.8</td>\n",
       "      <td>dohc</td>\n",
       "      <td>130</td>\n",
       "      <td>111</td>\n",
       "      <td>21</td>\n",
       "      <td>27</td>\n",
       "      <td>16500</td>\n",
       "    </tr>\n",
       "    <tr>\n",
       "      <th>2</th>\n",
       "      <td>1</td>\n",
       "      <td>?</td>\n",
       "      <td>alfa-romero</td>\n",
       "      <td>gas</td>\n",
       "      <td>hatchback</td>\n",
       "      <td>rwd</td>\n",
       "      <td>front</td>\n",
       "      <td>65.5</td>\n",
       "      <td>52.4</td>\n",
       "      <td>ohcv</td>\n",
       "      <td>152</td>\n",
       "      <td>154</td>\n",
       "      <td>19</td>\n",
       "      <td>26</td>\n",
       "      <td>16500</td>\n",
       "    </tr>\n",
       "    <tr>\n",
       "      <th>3</th>\n",
       "      <td>2</td>\n",
       "      <td>164</td>\n",
       "      <td>audi</td>\n",
       "      <td>gas</td>\n",
       "      <td>sedan</td>\n",
       "      <td>fwd</td>\n",
       "      <td>front</td>\n",
       "      <td>66.2</td>\n",
       "      <td>54.3</td>\n",
       "      <td>ohc</td>\n",
       "      <td>109</td>\n",
       "      <td>102</td>\n",
       "      <td>24</td>\n",
       "      <td>30</td>\n",
       "      <td>13950</td>\n",
       "    </tr>\n",
       "    <tr>\n",
       "      <th>4</th>\n",
       "      <td>2</td>\n",
       "      <td>164</td>\n",
       "      <td>audi</td>\n",
       "      <td>gas</td>\n",
       "      <td>sedan</td>\n",
       "      <td>4wd</td>\n",
       "      <td>front</td>\n",
       "      <td>66.4</td>\n",
       "      <td>54.3</td>\n",
       "      <td>ohc</td>\n",
       "      <td>136</td>\n",
       "      <td>115</td>\n",
       "      <td>18</td>\n",
       "      <td>22</td>\n",
       "      <td>17450</td>\n",
       "    </tr>\n",
       "  </tbody>\n",
       "</table>\n",
       "</div>"
      ],
      "text/plain": [
       "   symboling normalized-losses         make fuel-type   body-style  \\\n",
       "0          3                 ?  alfa-romero       gas  convertible   \n",
       "1          3                 ?  alfa-romero       gas  convertible   \n",
       "2          1                 ?  alfa-romero       gas    hatchback   \n",
       "3          2               164         audi       gas        sedan   \n",
       "4          2               164         audi       gas        sedan   \n",
       "\n",
       "  drive-wheels engine-location  width  height engine-type  engine-size  \\\n",
       "0          rwd           front   64.1    48.8        dohc          130   \n",
       "1          rwd           front   64.1    48.8        dohc          130   \n",
       "2          rwd           front   65.5    52.4        ohcv          152   \n",
       "3          fwd           front   66.2    54.3         ohc          109   \n",
       "4          4wd           front   66.4    54.3         ohc          136   \n",
       "\n",
       "  horsepower  city-mpg  highway-mpg  price  \n",
       "0        111        21           27  13495  \n",
       "1        111        21           27  16500  \n",
       "2        154        19           26  16500  \n",
       "3        102        24           30  13950  \n",
       "4        115        18           22  17450  "
      ]
     },
     "execution_count": 84,
     "metadata": {},
     "output_type": "execute_result"
    }
   ],
   "source": [
    "df.head()"
   ]
  },
  {
   "cell_type": "code",
   "execution_count": 85,
   "id": "68664344",
   "metadata": {
    "scrolled": true
   },
   "outputs": [
    {
     "data": {
      "text/html": [
       "<div>\n",
       "<style scoped>\n",
       "    .dataframe tbody tr th:only-of-type {\n",
       "        vertical-align: middle;\n",
       "    }\n",
       "\n",
       "    .dataframe tbody tr th {\n",
       "        vertical-align: top;\n",
       "    }\n",
       "\n",
       "    .dataframe thead th {\n",
       "        text-align: right;\n",
       "    }\n",
       "</style>\n",
       "<table border=\"1\" class=\"dataframe\">\n",
       "  <thead>\n",
       "    <tr style=\"text-align: right;\">\n",
       "      <th></th>\n",
       "      <th>symboling</th>\n",
       "      <th>normalized-losses</th>\n",
       "      <th>make</th>\n",
       "      <th>fuel-type</th>\n",
       "      <th>body-style</th>\n",
       "      <th>drive-wheels</th>\n",
       "      <th>engine-location</th>\n",
       "      <th>width</th>\n",
       "      <th>height</th>\n",
       "      <th>engine-type</th>\n",
       "      <th>engine-size</th>\n",
       "      <th>horsepower</th>\n",
       "      <th>city-mpg</th>\n",
       "      <th>highway-mpg</th>\n",
       "      <th>price</th>\n",
       "    </tr>\n",
       "  </thead>\n",
       "  <tbody>\n",
       "    <tr>\n",
       "      <th>200</th>\n",
       "      <td>-1</td>\n",
       "      <td>95</td>\n",
       "      <td>volvo</td>\n",
       "      <td>gas</td>\n",
       "      <td>sedan</td>\n",
       "      <td>rwd</td>\n",
       "      <td>front</td>\n",
       "      <td>68.9</td>\n",
       "      <td>55.5</td>\n",
       "      <td>ohc</td>\n",
       "      <td>141</td>\n",
       "      <td>114</td>\n",
       "      <td>23</td>\n",
       "      <td>28</td>\n",
       "      <td>16845</td>\n",
       "    </tr>\n",
       "    <tr>\n",
       "      <th>201</th>\n",
       "      <td>-1</td>\n",
       "      <td>95</td>\n",
       "      <td>volvo</td>\n",
       "      <td>gas</td>\n",
       "      <td>sedan</td>\n",
       "      <td>rwd</td>\n",
       "      <td>front</td>\n",
       "      <td>68.8</td>\n",
       "      <td>55.5</td>\n",
       "      <td>ohc</td>\n",
       "      <td>141</td>\n",
       "      <td>160</td>\n",
       "      <td>19</td>\n",
       "      <td>25</td>\n",
       "      <td>19045</td>\n",
       "    </tr>\n",
       "    <tr>\n",
       "      <th>202</th>\n",
       "      <td>-1</td>\n",
       "      <td>95</td>\n",
       "      <td>volvo</td>\n",
       "      <td>gas</td>\n",
       "      <td>sedan</td>\n",
       "      <td>rwd</td>\n",
       "      <td>front</td>\n",
       "      <td>68.9</td>\n",
       "      <td>55.5</td>\n",
       "      <td>ohcv</td>\n",
       "      <td>173</td>\n",
       "      <td>134</td>\n",
       "      <td>18</td>\n",
       "      <td>23</td>\n",
       "      <td>21485</td>\n",
       "    </tr>\n",
       "    <tr>\n",
       "      <th>203</th>\n",
       "      <td>-1</td>\n",
       "      <td>95</td>\n",
       "      <td>volvo</td>\n",
       "      <td>diesel</td>\n",
       "      <td>sedan</td>\n",
       "      <td>rwd</td>\n",
       "      <td>front</td>\n",
       "      <td>68.9</td>\n",
       "      <td>55.5</td>\n",
       "      <td>ohc</td>\n",
       "      <td>145</td>\n",
       "      <td>106</td>\n",
       "      <td>26</td>\n",
       "      <td>27</td>\n",
       "      <td>22470</td>\n",
       "    </tr>\n",
       "    <tr>\n",
       "      <th>204</th>\n",
       "      <td>-1</td>\n",
       "      <td>95</td>\n",
       "      <td>volvo</td>\n",
       "      <td>gas</td>\n",
       "      <td>sedan</td>\n",
       "      <td>rwd</td>\n",
       "      <td>front</td>\n",
       "      <td>68.9</td>\n",
       "      <td>55.5</td>\n",
       "      <td>ohc</td>\n",
       "      <td>141</td>\n",
       "      <td>114</td>\n",
       "      <td>19</td>\n",
       "      <td>25</td>\n",
       "      <td>22625</td>\n",
       "    </tr>\n",
       "  </tbody>\n",
       "</table>\n",
       "</div>"
      ],
      "text/plain": [
       "     symboling normalized-losses   make fuel-type body-style drive-wheels  \\\n",
       "200         -1                95  volvo       gas      sedan          rwd   \n",
       "201         -1                95  volvo       gas      sedan          rwd   \n",
       "202         -1                95  volvo       gas      sedan          rwd   \n",
       "203         -1                95  volvo    diesel      sedan          rwd   \n",
       "204         -1                95  volvo       gas      sedan          rwd   \n",
       "\n",
       "    engine-location  width  height engine-type  engine-size horsepower  \\\n",
       "200           front   68.9    55.5         ohc          141        114   \n",
       "201           front   68.8    55.5         ohc          141        160   \n",
       "202           front   68.9    55.5        ohcv          173        134   \n",
       "203           front   68.9    55.5         ohc          145        106   \n",
       "204           front   68.9    55.5         ohc          141        114   \n",
       "\n",
       "     city-mpg  highway-mpg  price  \n",
       "200        23           28  16845  \n",
       "201        19           25  19045  \n",
       "202        18           23  21485  \n",
       "203        26           27  22470  \n",
       "204        19           25  22625  "
      ]
     },
     "execution_count": 85,
     "metadata": {},
     "output_type": "execute_result"
    }
   ],
   "source": [
    "df.tail()"
   ]
  },
  {
   "cell_type": "code",
   "execution_count": 86,
   "id": "5fdb1c97",
   "metadata": {
    "scrolled": true
   },
   "outputs": [
    {
     "data": {
      "text/html": [
       "<div>\n",
       "<style scoped>\n",
       "    .dataframe tbody tr th:only-of-type {\n",
       "        vertical-align: middle;\n",
       "    }\n",
       "\n",
       "    .dataframe tbody tr th {\n",
       "        vertical-align: top;\n",
       "    }\n",
       "\n",
       "    .dataframe thead th {\n",
       "        text-align: right;\n",
       "    }\n",
       "</style>\n",
       "<table border=\"1\" class=\"dataframe\">\n",
       "  <thead>\n",
       "    <tr style=\"text-align: right;\">\n",
       "      <th></th>\n",
       "      <th>symboling</th>\n",
       "      <th>width</th>\n",
       "      <th>height</th>\n",
       "      <th>engine-size</th>\n",
       "      <th>city-mpg</th>\n",
       "      <th>highway-mpg</th>\n",
       "      <th>price</th>\n",
       "    </tr>\n",
       "  </thead>\n",
       "  <tbody>\n",
       "    <tr>\n",
       "      <th>count</th>\n",
       "      <td>205.000000</td>\n",
       "      <td>205.000000</td>\n",
       "      <td>205.000000</td>\n",
       "      <td>205.000000</td>\n",
       "      <td>205.000000</td>\n",
       "      <td>205.000000</td>\n",
       "      <td>205.000000</td>\n",
       "    </tr>\n",
       "    <tr>\n",
       "      <th>mean</th>\n",
       "      <td>0.834146</td>\n",
       "      <td>65.907805</td>\n",
       "      <td>53.724878</td>\n",
       "      <td>126.907317</td>\n",
       "      <td>25.219512</td>\n",
       "      <td>30.751220</td>\n",
       "      <td>13227.478049</td>\n",
       "    </tr>\n",
       "    <tr>\n",
       "      <th>std</th>\n",
       "      <td>1.245307</td>\n",
       "      <td>2.145204</td>\n",
       "      <td>2.443522</td>\n",
       "      <td>41.642693</td>\n",
       "      <td>6.542142</td>\n",
       "      <td>6.886443</td>\n",
       "      <td>7902.651615</td>\n",
       "    </tr>\n",
       "    <tr>\n",
       "      <th>min</th>\n",
       "      <td>-2.000000</td>\n",
       "      <td>60.300000</td>\n",
       "      <td>47.800000</td>\n",
       "      <td>61.000000</td>\n",
       "      <td>13.000000</td>\n",
       "      <td>16.000000</td>\n",
       "      <td>5118.000000</td>\n",
       "    </tr>\n",
       "    <tr>\n",
       "      <th>25%</th>\n",
       "      <td>0.000000</td>\n",
       "      <td>64.100000</td>\n",
       "      <td>52.000000</td>\n",
       "      <td>97.000000</td>\n",
       "      <td>19.000000</td>\n",
       "      <td>25.000000</td>\n",
       "      <td>7788.000000</td>\n",
       "    </tr>\n",
       "    <tr>\n",
       "      <th>50%</th>\n",
       "      <td>1.000000</td>\n",
       "      <td>65.500000</td>\n",
       "      <td>54.100000</td>\n",
       "      <td>120.000000</td>\n",
       "      <td>24.000000</td>\n",
       "      <td>30.000000</td>\n",
       "      <td>10345.000000</td>\n",
       "    </tr>\n",
       "    <tr>\n",
       "      <th>75%</th>\n",
       "      <td>2.000000</td>\n",
       "      <td>66.900000</td>\n",
       "      <td>55.500000</td>\n",
       "      <td>141.000000</td>\n",
       "      <td>30.000000</td>\n",
       "      <td>34.000000</td>\n",
       "      <td>16500.000000</td>\n",
       "    </tr>\n",
       "    <tr>\n",
       "      <th>max</th>\n",
       "      <td>3.000000</td>\n",
       "      <td>72.300000</td>\n",
       "      <td>59.800000</td>\n",
       "      <td>326.000000</td>\n",
       "      <td>49.000000</td>\n",
       "      <td>54.000000</td>\n",
       "      <td>45400.000000</td>\n",
       "    </tr>\n",
       "  </tbody>\n",
       "</table>\n",
       "</div>"
      ],
      "text/plain": [
       "        symboling       width      height  engine-size    city-mpg  \\\n",
       "count  205.000000  205.000000  205.000000   205.000000  205.000000   \n",
       "mean     0.834146   65.907805   53.724878   126.907317   25.219512   \n",
       "std      1.245307    2.145204    2.443522    41.642693    6.542142   \n",
       "min     -2.000000   60.300000   47.800000    61.000000   13.000000   \n",
       "25%      0.000000   64.100000   52.000000    97.000000   19.000000   \n",
       "50%      1.000000   65.500000   54.100000   120.000000   24.000000   \n",
       "75%      2.000000   66.900000   55.500000   141.000000   30.000000   \n",
       "max      3.000000   72.300000   59.800000   326.000000   49.000000   \n",
       "\n",
       "       highway-mpg         price  \n",
       "count   205.000000    205.000000  \n",
       "mean     30.751220  13227.478049  \n",
       "std       6.886443   7902.651615  \n",
       "min      16.000000   5118.000000  \n",
       "25%      25.000000   7788.000000  \n",
       "50%      30.000000  10345.000000  \n",
       "75%      34.000000  16500.000000  \n",
       "max      54.000000  45400.000000  "
      ]
     },
     "execution_count": 86,
     "metadata": {},
     "output_type": "execute_result"
    }
   ],
   "source": [
    "df.describe()"
   ]
  },
  {
   "cell_type": "code",
   "execution_count": 87,
   "id": "771b14e9",
   "metadata": {
    "scrolled": true
   },
   "outputs": [
    {
     "data": {
      "text/plain": [
       "symboling            0\n",
       "normalized-losses    0\n",
       "make                 0\n",
       "fuel-type            0\n",
       "body-style           0\n",
       "drive-wheels         0\n",
       "engine-location      0\n",
       "width                0\n",
       "height               0\n",
       "engine-type          0\n",
       "engine-size          0\n",
       "horsepower           0\n",
       "city-mpg             0\n",
       "highway-mpg          0\n",
       "price                0\n",
       "dtype: int64"
      ]
     },
     "execution_count": 87,
     "metadata": {},
     "output_type": "execute_result"
    }
   ],
   "source": [
    "df.isnull().sum()"
   ]
  },
  {
   "cell_type": "code",
   "execution_count": 88,
   "id": "a27d9a36",
   "metadata": {
    "scrolled": true
   },
   "outputs": [
    {
     "data": {
      "text/plain": [
       "symboling            0\n",
       "normalized-losses    0\n",
       "make                 0\n",
       "fuel-type            0\n",
       "body-style           0\n",
       "drive-wheels         0\n",
       "engine-location      0\n",
       "width                0\n",
       "height               0\n",
       "engine-type          0\n",
       "engine-size          0\n",
       "horsepower           0\n",
       "city-mpg             0\n",
       "highway-mpg          0\n",
       "price                0\n",
       "dtype: int64"
      ]
     },
     "execution_count": 88,
     "metadata": {},
     "output_type": "execute_result"
    }
   ],
   "source": [
    "df.isna().sum()"
   ]
  },
  {
   "cell_type": "code",
   "execution_count": 89,
   "id": "ee971994",
   "metadata": {
    "scrolled": false
   },
   "outputs": [
    {
     "name": "stdout",
     "output_type": "stream",
     "text": [
      "<class 'pandas.core.frame.DataFrame'>\n",
      "RangeIndex: 205 entries, 0 to 204\n",
      "Data columns (total 15 columns):\n",
      " #   Column             Non-Null Count  Dtype  \n",
      "---  ------             --------------  -----  \n",
      " 0   symboling          205 non-null    int64  \n",
      " 1   normalized-losses  205 non-null    object \n",
      " 2   make               205 non-null    object \n",
      " 3   fuel-type          205 non-null    object \n",
      " 4   body-style         205 non-null    object \n",
      " 5   drive-wheels       205 non-null    object \n",
      " 6   engine-location    205 non-null    object \n",
      " 7   width              205 non-null    float64\n",
      " 8   height             205 non-null    float64\n",
      " 9   engine-type        205 non-null    object \n",
      " 10  engine-size        205 non-null    int64  \n",
      " 11  horsepower         205 non-null    object \n",
      " 12  city-mpg           205 non-null    int64  \n",
      " 13  highway-mpg        205 non-null    int64  \n",
      " 14  price              205 non-null    int64  \n",
      "dtypes: float64(2), int64(5), object(8)\n",
      "memory usage: 24.1+ KB\n"
     ]
    }
   ],
   "source": [
    "df.info()"
   ]
  },
  {
   "cell_type": "code",
   "execution_count": 90,
   "id": "2322ea18",
   "metadata": {
    "scrolled": true
   },
   "outputs": [],
   "source": [
    "# handling the missing values"
   ]
  },
  {
   "cell_type": "code",
   "execution_count": 91,
   "id": "9130c60b",
   "metadata": {
    "scrolled": false
   },
   "outputs": [
    {
     "data": {
      "text/plain": [
       "?      41\n",
       "161    11\n",
       "91      8\n",
       "150     7\n",
       "134     6\n",
       "128     6\n",
       "104     6\n",
       "85      5\n",
       "94      5\n",
       "65      5\n",
       "102     5\n",
       "74      5\n",
       "168     5\n",
       "103     5\n",
       "95      5\n",
       "106     4\n",
       "93      4\n",
       "118     4\n",
       "148     4\n",
       "122     4\n",
       "83      3\n",
       "125     3\n",
       "154     3\n",
       "115     3\n",
       "137     3\n",
       "101     3\n",
       "119     2\n",
       "87      2\n",
       "89      2\n",
       "192     2\n",
       "197     2\n",
       "158     2\n",
       "81      2\n",
       "188     2\n",
       "194     2\n",
       "153     2\n",
       "129     2\n",
       "108     2\n",
       "110     2\n",
       "164     2\n",
       "145     2\n",
       "113     2\n",
       "256     1\n",
       "107     1\n",
       "90      1\n",
       "231     1\n",
       "142     1\n",
       "121     1\n",
       "78      1\n",
       "98      1\n",
       "186     1\n",
       "77      1\n",
       "Name: normalized-losses, dtype: int64"
      ]
     },
     "execution_count": 91,
     "metadata": {},
     "output_type": "execute_result"
    }
   ],
   "source": [
    "df[\"normalized-losses\"].value_counts()"
   ]
  },
  {
   "cell_type": "code",
   "execution_count": 92,
   "id": "2a5183c7",
   "metadata": {
    "scrolled": true
   },
   "outputs": [
    {
     "data": {
      "text/plain": [
       "68     19\n",
       "70     11\n",
       "69     10\n",
       "116     9\n",
       "110     8\n",
       "95      7\n",
       "88      6\n",
       "62      6\n",
       "101     6\n",
       "160     6\n",
       "114     6\n",
       "84      5\n",
       "97      5\n",
       "102     5\n",
       "145     5\n",
       "82      5\n",
       "76      5\n",
       "111     4\n",
       "92      4\n",
       "123     4\n",
       "86      4\n",
       "90      3\n",
       "73      3\n",
       "85      3\n",
       "207     3\n",
       "182     3\n",
       "121     3\n",
       "152     3\n",
       "112     2\n",
       "56      2\n",
       "161     2\n",
       "156     2\n",
       "94      2\n",
       "52      2\n",
       "?       2\n",
       "162     2\n",
       "155     2\n",
       "184     2\n",
       "100     2\n",
       "176     2\n",
       "55      1\n",
       "262     1\n",
       "134     1\n",
       "115     1\n",
       "140     1\n",
       "48      1\n",
       "58      1\n",
       "60      1\n",
       "78      1\n",
       "135     1\n",
       "200     1\n",
       "64      1\n",
       "120     1\n",
       "72      1\n",
       "154     1\n",
       "288     1\n",
       "143     1\n",
       "142     1\n",
       "175     1\n",
       "106     1\n",
       "Name: horsepower, dtype: int64"
      ]
     },
     "execution_count": 92,
     "metadata": {},
     "output_type": "execute_result"
    }
   ],
   "source": [
    "df[\"horsepower\"].value_counts()"
   ]
  },
  {
   "cell_type": "code",
   "execution_count": 93,
   "id": "540bb14a",
   "metadata": {
    "scrolled": true
   },
   "outputs": [],
   "source": [
    "df[\"horsepower\"].replace(\"?\",np.nan,inplace=True)"
   ]
  },
  {
   "cell_type": "code",
   "execution_count": 94,
   "id": "5b1ee7df",
   "metadata": {
    "scrolled": true
   },
   "outputs": [],
   "source": [
    "df[\"normalized-losses\"].replace(\"?\",np.nan,inplace=True)"
   ]
  },
  {
   "cell_type": "code",
   "execution_count": 95,
   "id": "54efa78c",
   "metadata": {
    "scrolled": true
   },
   "outputs": [
    {
     "data": {
      "text/plain": [
       "0      111\n",
       "1      111\n",
       "2      154\n",
       "3      102\n",
       "4      115\n",
       "      ... \n",
       "200    114\n",
       "201    160\n",
       "202    134\n",
       "203    106\n",
       "204    114\n",
       "Name: horsepower, Length: 205, dtype: object"
      ]
     },
     "execution_count": 95,
     "metadata": {},
     "output_type": "execute_result"
    }
   ],
   "source": [
    "df[\"horsepower\"]"
   ]
  },
  {
   "cell_type": "code",
   "execution_count": 96,
   "id": "2b19a804",
   "metadata": {
    "scrolled": true
   },
   "outputs": [
    {
     "data": {
      "text/plain": [
       "0      NaN\n",
       "1      NaN\n",
       "2      NaN\n",
       "3      164\n",
       "4      164\n",
       "      ... \n",
       "200     95\n",
       "201     95\n",
       "202     95\n",
       "203     95\n",
       "204     95\n",
       "Name: normalized-losses, Length: 205, dtype: object"
      ]
     },
     "execution_count": 96,
     "metadata": {},
     "output_type": "execute_result"
    }
   ],
   "source": [
    "df[\"normalized-losses\"]"
   ]
  },
  {
   "cell_type": "code",
   "execution_count": null,
   "id": "a53ab63c",
   "metadata": {
    "scrolled": true
   },
   "outputs": [],
   "source": []
  },
  {
   "cell_type": "code",
   "execution_count": 97,
   "id": "e1518987",
   "metadata": {
    "scrolled": true
   },
   "outputs": [],
   "source": [
    "from sklearn.impute import SimpleImputer\n",
    "imp_mean = SimpleImputer(missing_values=np.nan, strategy='mean')\n",
    "nan_columns=[\"normalized-losses\",\"horsepower\"]\n",
    "df[nan_columns]=imp_mean.fit_transform(df[nan_columns])"
   ]
  },
  {
   "cell_type": "code",
   "execution_count": 98,
   "id": "cbab69b9",
   "metadata": {
    "scrolled": false
   },
   "outputs": [
    {
     "name": "stdout",
     "output_type": "stream",
     "text": [
      "<class 'pandas.core.frame.DataFrame'>\n",
      "RangeIndex: 205 entries, 0 to 204\n",
      "Data columns (total 15 columns):\n",
      " #   Column             Non-Null Count  Dtype  \n",
      "---  ------             --------------  -----  \n",
      " 0   symboling          205 non-null    int64  \n",
      " 1   normalized-losses  205 non-null    float64\n",
      " 2   make               205 non-null    object \n",
      " 3   fuel-type          205 non-null    object \n",
      " 4   body-style         205 non-null    object \n",
      " 5   drive-wheels       205 non-null    object \n",
      " 6   engine-location    205 non-null    object \n",
      " 7   width              205 non-null    float64\n",
      " 8   height             205 non-null    float64\n",
      " 9   engine-type        205 non-null    object \n",
      " 10  engine-size        205 non-null    int64  \n",
      " 11  horsepower         205 non-null    float64\n",
      " 12  city-mpg           205 non-null    int64  \n",
      " 13  highway-mpg        205 non-null    int64  \n",
      " 14  price              205 non-null    int64  \n",
      "dtypes: float64(4), int64(5), object(6)\n",
      "memory usage: 24.1+ KB\n"
     ]
    }
   ],
   "source": [
    "df.info()"
   ]
  },
  {
   "cell_type": "code",
   "execution_count": 99,
   "id": "ae28df9a",
   "metadata": {
    "scrolled": true
   },
   "outputs": [],
   "source": [
    "#handling the outliers"
   ]
  },
  {
   "cell_type": "code",
   "execution_count": 100,
   "id": "064b154f",
   "metadata": {
    "scrolled": false
   },
   "outputs": [
    {
     "data": {
      "text/plain": [
       "<AxesSubplot: xlabel='price'>"
      ]
     },
     "execution_count": 100,
     "metadata": {},
     "output_type": "execute_result"
    },
    {
     "data": {
      "image/png": "[encoded data removed]",
      "text/plain": [
       "<Figure size 640x480 with 1 Axes>"
      ]
     },
     "metadata": {},
     "output_type": "display_data"
    }
   ],
   "source": [
    "sns.boxplot(data=df,x=\"price\")"
   ]
  },
  {
   "cell_type": "code",
   "execution_count": 101,
   "id": "60114cf4",
   "metadata": {
    "scrolled": false
   },
   "outputs": [
    {
     "data": {
      "text/plain": [
       "<AxesSubplot: xlabel='price', ylabel='make'>"
      ]
     },
     "execution_count": 101,
     "metadata": {},
     "output_type": "execute_result"
    },
    {
     "data": {
      "image/png": "[encoded data removed]",
      "text/plain": [
       "<Figure size 640x480 with 1 Axes>"
      ]
     },
     "metadata": {},
     "output_type": "display_data"
    }
   ],
   "source": [
    "sns.boxplot(df,y=\"make\",x=\"price\")"
   ]
  },
  {
   "cell_type": "code",
   "execution_count": 102,
   "id": "987c8bea",
   "metadata": {
    "scrolled": true
   },
   "outputs": [],
   "source": [
    "# calculation of outliers based onthe  following \n",
    "# lower limit or boundary\n",
    "# upper limit\n",
    "# find the index of the outliers\n",
    "# droping the above index od the outliers"
   ]
  },
  {
   "cell_type": "code",
   "execution_count": 103,
   "id": "b3c9f515",
   "metadata": {},
   "outputs": [
    {
     "name": "stdout",
     "output_type": "stream",
     "text": [
      "Outliers:\n",
      "    index  price\n",
      "0      29  12964\n",
      "1      41  12945\n",
      "2      45  23000\n",
      "3      83  14869\n",
      "4      84  14489\n",
      "5     124  12764\n",
      "6     172  17669\n",
      "7     178  16558\n",
      "8     179  15998\n",
      "9     180  15690\n",
      "10    181  15750\n"
     ]
    }
   ],
   "source": [
    "def detect_outliers(data):\n",
    "    \n",
    "    grouped_data = data.groupby('make')\n",
    "\n",
    "    outliers = []\n",
    "\n",
    "    for make, group in grouped_data:\n",
    "        \n",
    "        q1 = np.percentile(group['price'], 25)\n",
    "        q3 = np.percentile(group['price'], 75)\n",
    "\n",
    "        iqr = q3 - q1\n",
    "\n",
    "        lower_bound = q1 - (1.5 * iqr)\n",
    "        upper_bound = q3 + (1.5 * iqr)\n",
    "\n",
    "        make_outliers = group[(group['price'] < lower_bound) | (group['price'] > upper_bound)]\n",
    "\n",
    "        outliers.extend(make_outliers[['price']].reset_index().values.tolist())\n",
    "\n",
    "    \n",
    "    outliers_df = pd.DataFrame(outliers, columns=['index', 'price'])\n",
    "\n",
    "    return outliers_df\n",
    "\n",
    "\n",
    "data = df\n",
    "\n",
    "outliers = detect_outliers(data)\n",
    "print(\"Outliers:\")\n",
    "print(outliers)"
   ]
  },
  {
   "cell_type": "code",
   "execution_count": 104,
   "id": "253ea1bd",
   "metadata": {},
   "outputs": [],
   "source": [
    "df.drop([29,41,45,83,84,124,172,178,179,180,181],inplace=True)"
   ]
  },
  {
   "cell_type": "code",
   "execution_count": 105,
   "id": "9aeac7d8",
   "metadata": {
    "scrolled": false
   },
   "outputs": [
    {
     "data": {
      "text/plain": [
       "<AxesSubplot: xlabel='price', ylabel='make'>"
      ]
     },
     "execution_count": 105,
     "metadata": {},
     "output_type": "execute_result"
    },
    {
     "data": {
      "image/png": "[encoded data removed]",
      "text/plain": [
       "<Figure size 640x480 with 1 Axes>"
      ]
     },
     "metadata": {},
     "output_type": "display_data"
    }
   ],
   "source": [
    "sns.boxplot(df,y=\"make\",x=\"price\")"
   ]
  },
  {
   "cell_type": "code",
   "execution_count": 106,
   "id": "55950c62",
   "metadata": {},
   "outputs": [],
   "source": [
    "# Therfore all the outliers are removed"
   ]
  },
  {
   "cell_type": "code",
   "execution_count": null,
   "id": "a6db04fb",
   "metadata": {},
   "outputs": [],
   "source": []
  },
  {
   "cell_type": "code",
   "execution_count": 107,
   "id": "405023b9",
   "metadata": {
    "scrolled": true
   },
   "outputs": [
    {
     "name": "stderr",
     "output_type": "stream",
     "text": [
      "C:\\Users\\P NAVYASRI\\AppData\\Local\\Temp\\ipykernel_11416\\3868510414.py:1: FutureWarning: The default value of numeric_only in DataFrame.skew is deprecated. In a future version, it will default to False. In addition, specifying 'numeric_only=None' is deprecated. Select only valid columns or specify the value of numeric_only to silence this warning.\n",
      "  df.skew().sort_values()\n"
     ]
    },
    {
     "data": {
      "text/plain": [
       "height               0.013948\n",
       "symboling            0.215539\n",
       "highway-mpg          0.479748\n",
       "city-mpg             0.604592\n",
       "normalized-losses    0.854830\n",
       "width                0.921178\n",
       "horsepower           1.567806\n",
       "price                1.830866\n",
       "engine-size          2.070167\n",
       "dtype: float64"
      ]
     },
     "execution_count": 107,
     "metadata": {},
     "output_type": "execute_result"
    }
   ],
   "source": [
    "df.skew().sort_values()"
   ]
  },
  {
   "cell_type": "code",
   "execution_count": 108,
   "id": "e689232c",
   "metadata": {},
   "outputs": [
    {
     "data": {
      "text/html": [
       "<div>\n",
       "<style scoped>\n",
       "    .dataframe tbody tr th:only-of-type {\n",
       "        vertical-align: middle;\n",
       "    }\n",
       "\n",
       "    .dataframe tbody tr th {\n",
       "        vertical-align: top;\n",
       "    }\n",
       "\n",
       "    .dataframe thead th {\n",
       "        text-align: right;\n",
       "    }\n",
       "</style>\n",
       "<table border=\"1\" class=\"dataframe\">\n",
       "  <thead>\n",
       "    <tr style=\"text-align: right;\">\n",
       "      <th></th>\n",
       "      <th>count</th>\n",
       "      <th>mean</th>\n",
       "      <th>std</th>\n",
       "      <th>min</th>\n",
       "      <th>25%</th>\n",
       "      <th>50%</th>\n",
       "      <th>75%</th>\n",
       "      <th>max</th>\n",
       "    </tr>\n",
       "  </thead>\n",
       "  <tbody>\n",
       "    <tr>\n",
       "      <th>symboling</th>\n",
       "      <td>194.0</td>\n",
       "      <td>0.788660</td>\n",
       "      <td>1.200896</td>\n",
       "      <td>-2.0</td>\n",
       "      <td>0.00</td>\n",
       "      <td>1.0</td>\n",
       "      <td>2.000</td>\n",
       "      <td>3.0</td>\n",
       "    </tr>\n",
       "    <tr>\n",
       "      <th>normalized-losses</th>\n",
       "      <td>194.0</td>\n",
       "      <td>121.402062</td>\n",
       "      <td>31.406299</td>\n",
       "      <td>65.0</td>\n",
       "      <td>101.00</td>\n",
       "      <td>122.0</td>\n",
       "      <td>137.000</td>\n",
       "      <td>256.0</td>\n",
       "    </tr>\n",
       "    <tr>\n",
       "      <th>width</th>\n",
       "      <td>194.0</td>\n",
       "      <td>65.892268</td>\n",
       "      <td>2.189327</td>\n",
       "      <td>60.3</td>\n",
       "      <td>64.00</td>\n",
       "      <td>65.4</td>\n",
       "      <td>66.900</td>\n",
       "      <td>72.3</td>\n",
       "    </tr>\n",
       "    <tr>\n",
       "      <th>height</th>\n",
       "      <td>194.0</td>\n",
       "      <td>53.822165</td>\n",
       "      <td>2.448045</td>\n",
       "      <td>47.8</td>\n",
       "      <td>52.00</td>\n",
       "      <td>54.1</td>\n",
       "      <td>55.675</td>\n",
       "      <td>59.8</td>\n",
       "    </tr>\n",
       "    <tr>\n",
       "      <th>engine-size</th>\n",
       "      <td>194.0</td>\n",
       "      <td>125.628866</td>\n",
       "      <td>42.036826</td>\n",
       "      <td>61.0</td>\n",
       "      <td>97.00</td>\n",
       "      <td>110.0</td>\n",
       "      <td>140.750</td>\n",
       "      <td>326.0</td>\n",
       "    </tr>\n",
       "    <tr>\n",
       "      <th>horsepower</th>\n",
       "      <td>194.0</td>\n",
       "      <td>102.430476</td>\n",
       "      <td>39.307294</td>\n",
       "      <td>48.0</td>\n",
       "      <td>70.00</td>\n",
       "      <td>95.0</td>\n",
       "      <td>116.000</td>\n",
       "      <td>288.0</td>\n",
       "    </tr>\n",
       "    <tr>\n",
       "      <th>city-mpg</th>\n",
       "      <td>194.0</td>\n",
       "      <td>25.412371</td>\n",
       "      <td>6.546371</td>\n",
       "      <td>13.0</td>\n",
       "      <td>19.25</td>\n",
       "      <td>25.0</td>\n",
       "      <td>30.000</td>\n",
       "      <td>49.0</td>\n",
       "    </tr>\n",
       "    <tr>\n",
       "      <th>highway-mpg</th>\n",
       "      <td>194.0</td>\n",
       "      <td>30.984536</td>\n",
       "      <td>6.882039</td>\n",
       "      <td>16.0</td>\n",
       "      <td>25.00</td>\n",
       "      <td>30.5</td>\n",
       "      <td>36.000</td>\n",
       "      <td>54.0</td>\n",
       "    </tr>\n",
       "    <tr>\n",
       "      <th>price</th>\n",
       "      <td>194.0</td>\n",
       "      <td>13087.304124</td>\n",
       "      <td>8075.197621</td>\n",
       "      <td>5118.0</td>\n",
       "      <td>7747.25</td>\n",
       "      <td>9992.0</td>\n",
       "      <td>16500.000</td>\n",
       "      <td>45400.0</td>\n",
       "    </tr>\n",
       "  </tbody>\n",
       "</table>\n",
       "</div>"
      ],
      "text/plain": [
       "                   count          mean          std     min      25%     50%  \\\n",
       "symboling          194.0      0.788660     1.200896    -2.0     0.00     1.0   \n",
       "normalized-losses  194.0    121.402062    31.406299    65.0   101.00   122.0   \n",
       "width              194.0     65.892268     2.189327    60.3    64.00    65.4   \n",
       "height             194.0     53.822165     2.448045    47.8    52.00    54.1   \n",
       "engine-size        194.0    125.628866    42.036826    61.0    97.00   110.0   \n",
       "horsepower         194.0    102.430476    39.307294    48.0    70.00    95.0   \n",
       "city-mpg           194.0     25.412371     6.546371    13.0    19.25    25.0   \n",
       "highway-mpg        194.0     30.984536     6.882039    16.0    25.00    30.5   \n",
       "price              194.0  13087.304124  8075.197621  5118.0  7747.25  9992.0   \n",
       "\n",
       "                         75%      max  \n",
       "symboling              2.000      3.0  \n",
       "normalized-losses    137.000    256.0  \n",
       "width                 66.900     72.3  \n",
       "height                55.675     59.8  \n",
       "engine-size          140.750    326.0  \n",
       "horsepower           116.000    288.0  \n",
       "city-mpg              30.000     49.0  \n",
       "highway-mpg           36.000     54.0  \n",
       "price              16500.000  45400.0  "
      ]
     },
     "execution_count": 108,
     "metadata": {},
     "output_type": "execute_result"
    }
   ],
   "source": [
    "df.describe().T"
   ]
  },
  {
   "cell_type": "code",
   "execution_count": 109,
   "id": "db82374e",
   "metadata": {},
   "outputs": [
    {
     "name": "stderr",
     "output_type": "stream",
     "text": [
      "C:\\Users\\P NAVYASRI\\AppData\\Local\\Temp\\ipykernel_11416\\3868510414.py:1: FutureWarning: The default value of numeric_only in DataFrame.skew is deprecated. In a future version, it will default to False. In addition, specifying 'numeric_only=None' is deprecated. Select only valid columns or specify the value of numeric_only to silence this warning.\n",
      "  df.skew().sort_values()\n"
     ]
    },
    {
     "data": {
      "text/plain": [
       "height               0.013948\n",
       "symboling            0.215539\n",
       "highway-mpg          0.479748\n",
       "city-mpg             0.604592\n",
       "normalized-losses    0.854830\n",
       "width                0.921178\n",
       "horsepower           1.567806\n",
       "price                1.830866\n",
       "engine-size          2.070167\n",
       "dtype: float64"
      ]
     },
     "execution_count": 109,
     "metadata": {},
     "output_type": "execute_result"
    }
   ],
   "source": [
    "df.skew().sort_values()"
   ]
  },
  {
   "cell_type": "code",
   "execution_count": 110,
   "id": "ec9ace79",
   "metadata": {},
   "outputs": [],
   "source": [
    "from sklearn.preprocessing import OrdinalEncoder\n",
    "enc = OrdinalEncoder()\n",
    "df[[\"make\",\"body-style\",\"fuel-type\",\"drive-wheels\",\"engine-location\",\"engine-type\"]]=enc.fit_transform(df[[\"make\",\"body-style\",\"fuel-type\",\"drive-wheels\",\"engine-location\",\"engine-type\"]])"
   ]
  },
  {
   "cell_type": "code",
   "execution_count": 111,
   "id": "f1a08d04",
   "metadata": {},
   "outputs": [
    {
     "data": {
      "text/html": [
       "<div>\n",
       "<style scoped>\n",
       "    .dataframe tbody tr th:only-of-type {\n",
       "        vertical-align: middle;\n",
       "    }\n",
       "\n",
       "    .dataframe tbody tr th {\n",
       "        vertical-align: top;\n",
       "    }\n",
       "\n",
       "    .dataframe thead th {\n",
       "        text-align: right;\n",
       "    }\n",
       "</style>\n",
       "<table border=\"1\" class=\"dataframe\">\n",
       "  <thead>\n",
       "    <tr style=\"text-align: right;\">\n",
       "      <th></th>\n",
       "      <th>symboling</th>\n",
       "      <th>normalized-losses</th>\n",
       "      <th>make</th>\n",
       "      <th>fuel-type</th>\n",
       "      <th>body-style</th>\n",
       "      <th>drive-wheels</th>\n",
       "      <th>engine-location</th>\n",
       "      <th>width</th>\n",
       "      <th>height</th>\n",
       "      <th>engine-type</th>\n",
       "      <th>engine-size</th>\n",
       "      <th>horsepower</th>\n",
       "      <th>city-mpg</th>\n",
       "      <th>highway-mpg</th>\n",
       "      <th>price</th>\n",
       "    </tr>\n",
       "  </thead>\n",
       "  <tbody>\n",
       "    <tr>\n",
       "      <th>0</th>\n",
       "      <td>3</td>\n",
       "      <td>122.0</td>\n",
       "      <td>0.0</td>\n",
       "      <td>1.0</td>\n",
       "      <td>0.0</td>\n",
       "      <td>2.0</td>\n",
       "      <td>0.0</td>\n",
       "      <td>64.1</td>\n",
       "      <td>48.8</td>\n",
       "      <td>0.0</td>\n",
       "      <td>130</td>\n",
       "      <td>111.0</td>\n",
       "      <td>21</td>\n",
       "      <td>27</td>\n",
       "      <td>13495</td>\n",
       "    </tr>\n",
       "    <tr>\n",
       "      <th>1</th>\n",
       "      <td>3</td>\n",
       "      <td>122.0</td>\n",
       "      <td>0.0</td>\n",
       "      <td>1.0</td>\n",
       "      <td>0.0</td>\n",
       "      <td>2.0</td>\n",
       "      <td>0.0</td>\n",
       "      <td>64.1</td>\n",
       "      <td>48.8</td>\n",
       "      <td>0.0</td>\n",
       "      <td>130</td>\n",
       "      <td>111.0</td>\n",
       "      <td>21</td>\n",
       "      <td>27</td>\n",
       "      <td>16500</td>\n",
       "    </tr>\n",
       "    <tr>\n",
       "      <th>2</th>\n",
       "      <td>1</td>\n",
       "      <td>122.0</td>\n",
       "      <td>0.0</td>\n",
       "      <td>1.0</td>\n",
       "      <td>2.0</td>\n",
       "      <td>2.0</td>\n",
       "      <td>0.0</td>\n",
       "      <td>65.5</td>\n",
       "      <td>52.4</td>\n",
       "      <td>5.0</td>\n",
       "      <td>152</td>\n",
       "      <td>154.0</td>\n",
       "      <td>19</td>\n",
       "      <td>26</td>\n",
       "      <td>16500</td>\n",
       "    </tr>\n",
       "    <tr>\n",
       "      <th>3</th>\n",
       "      <td>2</td>\n",
       "      <td>164.0</td>\n",
       "      <td>1.0</td>\n",
       "      <td>1.0</td>\n",
       "      <td>3.0</td>\n",
       "      <td>1.0</td>\n",
       "      <td>0.0</td>\n",
       "      <td>66.2</td>\n",
       "      <td>54.3</td>\n",
       "      <td>3.0</td>\n",
       "      <td>109</td>\n",
       "      <td>102.0</td>\n",
       "      <td>24</td>\n",
       "      <td>30</td>\n",
       "      <td>13950</td>\n",
       "    </tr>\n",
       "    <tr>\n",
       "      <th>4</th>\n",
       "      <td>2</td>\n",
       "      <td>164.0</td>\n",
       "      <td>1.0</td>\n",
       "      <td>1.0</td>\n",
       "      <td>3.0</td>\n",
       "      <td>0.0</td>\n",
       "      <td>0.0</td>\n",
       "      <td>66.4</td>\n",
       "      <td>54.3</td>\n",
       "      <td>3.0</td>\n",
       "      <td>136</td>\n",
       "      <td>115.0</td>\n",
       "      <td>18</td>\n",
       "      <td>22</td>\n",
       "      <td>17450</td>\n",
       "    </tr>\n",
       "    <tr>\n",
       "      <th>...</th>\n",
       "      <td>...</td>\n",
       "      <td>...</td>\n",
       "      <td>...</td>\n",
       "      <td>...</td>\n",
       "      <td>...</td>\n",
       "      <td>...</td>\n",
       "      <td>...</td>\n",
       "      <td>...</td>\n",
       "      <td>...</td>\n",
       "      <td>...</td>\n",
       "      <td>...</td>\n",
       "      <td>...</td>\n",
       "      <td>...</td>\n",
       "      <td>...</td>\n",
       "      <td>...</td>\n",
       "    </tr>\n",
       "    <tr>\n",
       "      <th>200</th>\n",
       "      <td>-1</td>\n",
       "      <td>95.0</td>\n",
       "      <td>21.0</td>\n",
       "      <td>1.0</td>\n",
       "      <td>3.0</td>\n",
       "      <td>2.0</td>\n",
       "      <td>0.0</td>\n",
       "      <td>68.9</td>\n",
       "      <td>55.5</td>\n",
       "      <td>3.0</td>\n",
       "      <td>141</td>\n",
       "      <td>114.0</td>\n",
       "      <td>23</td>\n",
       "      <td>28</td>\n",
       "      <td>16845</td>\n",
       "    </tr>\n",
       "    <tr>\n",
       "      <th>201</th>\n",
       "      <td>-1</td>\n",
       "      <td>95.0</td>\n",
       "      <td>21.0</td>\n",
       "      <td>1.0</td>\n",
       "      <td>3.0</td>\n",
       "      <td>2.0</td>\n",
       "      <td>0.0</td>\n",
       "      <td>68.8</td>\n",
       "      <td>55.5</td>\n",
       "      <td>3.0</td>\n",
       "      <td>141</td>\n",
       "      <td>160.0</td>\n",
       "      <td>19</td>\n",
       "      <td>25</td>\n",
       "      <td>19045</td>\n",
       "    </tr>\n",
       "    <tr>\n",
       "      <th>202</th>\n",
       "      <td>-1</td>\n",
       "      <td>95.0</td>\n",
       "      <td>21.0</td>\n",
       "      <td>1.0</td>\n",
       "      <td>3.0</td>\n",
       "      <td>2.0</td>\n",
       "      <td>0.0</td>\n",
       "      <td>68.9</td>\n",
       "      <td>55.5</td>\n",
       "      <td>5.0</td>\n",
       "      <td>173</td>\n",
       "      <td>134.0</td>\n",
       "      <td>18</td>\n",
       "      <td>23</td>\n",
       "      <td>21485</td>\n",
       "    </tr>\n",
       "    <tr>\n",
       "      <th>203</th>\n",
       "      <td>-1</td>\n",
       "      <td>95.0</td>\n",
       "      <td>21.0</td>\n",
       "      <td>0.0</td>\n",
       "      <td>3.0</td>\n",
       "      <td>2.0</td>\n",
       "      <td>0.0</td>\n",
       "      <td>68.9</td>\n",
       "      <td>55.5</td>\n",
       "      <td>3.0</td>\n",
       "      <td>145</td>\n",
       "      <td>106.0</td>\n",
       "      <td>26</td>\n",
       "      <td>27</td>\n",
       "      <td>22470</td>\n",
       "    </tr>\n",
       "    <tr>\n",
       "      <th>204</th>\n",
       "      <td>-1</td>\n",
       "      <td>95.0</td>\n",
       "      <td>21.0</td>\n",
       "      <td>1.0</td>\n",
       "      <td>3.0</td>\n",
       "      <td>2.0</td>\n",
       "      <td>0.0</td>\n",
       "      <td>68.9</td>\n",
       "      <td>55.5</td>\n",
       "      <td>3.0</td>\n",
       "      <td>141</td>\n",
       "      <td>114.0</td>\n",
       "      <td>19</td>\n",
       "      <td>25</td>\n",
       "      <td>22625</td>\n",
       "    </tr>\n",
       "  </tbody>\n",
       "</table>\n",
       "<p>194 rows × 15 columns</p>\n",
       "</div>"
      ],
      "text/plain": [
       "     symboling  normalized-losses  make  fuel-type  body-style  drive-wheels  \\\n",
       "0            3              122.0   0.0        1.0         0.0           2.0   \n",
       "1            3              122.0   0.0        1.0         0.0           2.0   \n",
       "2            1              122.0   0.0        1.0         2.0           2.0   \n",
       "3            2              164.0   1.0        1.0         3.0           1.0   \n",
       "4            2              164.0   1.0        1.0         3.0           0.0   \n",
       "..         ...                ...   ...        ...         ...           ...   \n",
       "200         -1               95.0  21.0        1.0         3.0           2.0   \n",
       "201         -1               95.0  21.0        1.0         3.0           2.0   \n",
       "202         -1               95.0  21.0        1.0         3.0           2.0   \n",
       "203         -1               95.0  21.0        0.0         3.0           2.0   \n",
       "204         -1               95.0  21.0        1.0         3.0           2.0   \n",
       "\n",
       "     engine-location  width  height  engine-type  engine-size  horsepower  \\\n",
       "0                0.0   64.1    48.8          0.0          130       111.0   \n",
       "1                0.0   64.1    48.8          0.0          130       111.0   \n",
       "2                0.0   65.5    52.4          5.0          152       154.0   \n",
       "3                0.0   66.2    54.3          3.0          109       102.0   \n",
       "4                0.0   66.4    54.3          3.0          136       115.0   \n",
       "..               ...    ...     ...          ...          ...         ...   \n",
       "200              0.0   68.9    55.5          3.0          141       114.0   \n",
       "201              0.0   68.8    55.5          3.0          141       160.0   \n",
       "202              0.0   68.9    55.5          5.0          173       134.0   \n",
       "203              0.0   68.9    55.5          3.0          145       106.0   \n",
       "204              0.0   68.9    55.5          3.0          141       114.0   \n",
       "\n",
       "     city-mpg  highway-mpg  price  \n",
       "0          21           27  13495  \n",
       "1          21           27  16500  \n",
       "2          19           26  16500  \n",
       "3          24           30  13950  \n",
       "4          18           22  17450  \n",
       "..        ...          ...    ...  \n",
       "200        23           28  16845  \n",
       "201        19           25  19045  \n",
       "202        18           23  21485  \n",
       "203        26           27  22470  \n",
       "204        19           25  22625  \n",
       "\n",
       "[194 rows x 15 columns]"
      ]
     },
     "execution_count": 111,
     "metadata": {},
     "output_type": "execute_result"
    }
   ],
   "source": [
    "df"
   ]
  },
  {
   "cell_type": "code",
   "execution_count": 112,
   "id": "d5edf2e0",
   "metadata": {},
   "outputs": [],
   "source": [
    " from scipy.stats import skew"
   ]
  },
  {
   "cell_type": "code",
   "execution_count": 35,
   "id": "87a336d7",
   "metadata": {
    "scrolled": false
   },
   "outputs": [
    {
     "name": "stderr",
     "output_type": "stream",
     "text": [
      "C:\\Users\\P NAVYASRI\\AppData\\Local\\Temp\\ipykernel_11416\\4100437337.py:6: UserWarning: \n",
      "\n",
      "`distplot` is a deprecated function and will be removed in seaborn v0.14.0.\n",
      "\n",
      "Please adapt your code to use either `displot` (a figure-level function with\n",
      "similar flexibility) or `histplot` (an axes-level function for histograms).\n",
      "\n",
      "For a guide to updating your code to use the new functions, please see\n",
      "https://gist.github.com/mwaskom/de44147ed2974457ad6372750bbe5751\n",
      "\n",
      "  sns.distplot(df[i])\n"
     ]
    },
    {
     "name": "stdout",
     "output_type": "stream",
     "text": [
      "symboling\n",
      "0.21386866184357742\n"
     ]
    },
    {
     "data": {
      "image/png": "[encoded data removed]",
      "text/plain": [
       "<Figure size 640x480 with 1 Axes>"
      ]
     },
     "metadata": {},
     "output_type": "display_data"
    },
    {
     "name": "stdout",
     "output_type": "stream",
     "text": [
      "normalized-losses\n",
      "0.848205953606264\n"
     ]
    },
    {
     "name": "stderr",
     "output_type": "stream",
     "text": [
      "C:\\Users\\P NAVYASRI\\AppData\\Local\\Temp\\ipykernel_11416\\4100437337.py:6: UserWarning: \n",
      "\n",
      "`distplot` is a deprecated function and will be removed in seaborn v0.14.0.\n",
      "\n",
      "Please adapt your code to use either `displot` (a figure-level function with\n",
      "similar flexibility) or `histplot` (an axes-level function for histograms).\n",
      "\n",
      "For a guide to updating your code to use the new functions, please see\n",
      "https://gist.github.com/mwaskom/de44147ed2974457ad6372750bbe5751\n",
      "\n",
      "  sns.distplot(df[i])\n"
     ]
    },
    {
     "data": {
      "image/png": "[encoded data removed]",
      "text/plain": [
       "<Figure size 640x480 with 1 Axes>"
      ]
     },
     "metadata": {},
     "output_type": "display_data"
    },
    {
     "name": "stdout",
     "output_type": "stream",
     "text": [
      "make\n",
      "-0.23436463409363628\n"
     ]
    },
    {
     "name": "stderr",
     "output_type": "stream",
     "text": [
      "C:\\Users\\P NAVYASRI\\AppData\\Local\\Temp\\ipykernel_11416\\4100437337.py:6: UserWarning: \n",
      "\n",
      "`distplot` is a deprecated function and will be removed in seaborn v0.14.0.\n",
      "\n",
      "Please adapt your code to use either `displot` (a figure-level function with\n",
      "similar flexibility) or `histplot` (an axes-level function for histograms).\n",
      "\n",
      "For a guide to updating your code to use the new functions, please see\n",
      "https://gist.github.com/mwaskom/de44147ed2974457ad6372750bbe5751\n",
      "\n",
      "  sns.distplot(df[i])\n"
     ]
    },
    {
     "data": {
      "image/png": "[encoded data removed]",
      "text/plain": [
       "<Figure size 640x480 with 1 Axes>"
      ]
     },
     "metadata": {},
     "output_type": "display_data"
    },
    {
     "name": "stdout",
     "output_type": "stream",
     "text": [
      "fuel-type\n",
      "-2.6105444889401226\n"
     ]
    },
    {
     "name": "stderr",
     "output_type": "stream",
     "text": [
      "C:\\Users\\P NAVYASRI\\AppData\\Local\\Temp\\ipykernel_11416\\4100437337.py:6: UserWarning: \n",
      "\n",
      "`distplot` is a deprecated function and will be removed in seaborn v0.14.0.\n",
      "\n",
      "Please adapt your code to use either `displot` (a figure-level function with\n",
      "similar flexibility) or `histplot` (an axes-level function for histograms).\n",
      "\n",
      "For a guide to updating your code to use the new functions, please see\n",
      "https://gist.github.com/mwaskom/de44147ed2974457ad6372750bbe5751\n",
      "\n",
      "  sns.distplot(df[i])\n"
     ]
    },
    {
     "data": {
      "image/png": "[encoded data removed]",
      "text/plain": [
       "<Figure size 640x480 with 1 Axes>"
      ]
     },
     "metadata": {},
     "output_type": "display_data"
    },
    {
     "name": "stdout",
     "output_type": "stream",
     "text": [
      "body-style\n",
      "-0.6531388693992309\n"
     ]
    },
    {
     "name": "stderr",
     "output_type": "stream",
     "text": [
      "C:\\Users\\P NAVYASRI\\AppData\\Local\\Temp\\ipykernel_11416\\4100437337.py:6: UserWarning: \n",
      "\n",
      "`distplot` is a deprecated function and will be removed in seaborn v0.14.0.\n",
      "\n",
      "Please adapt your code to use either `displot` (a figure-level function with\n",
      "similar flexibility) or `histplot` (an axes-level function for histograms).\n",
      "\n",
      "For a guide to updating your code to use the new functions, please see\n",
      "https://gist.github.com/mwaskom/de44147ed2974457ad6372750bbe5751\n",
      "\n",
      "  sns.distplot(df[i])\n"
     ]
    },
    {
     "data": {
      "image/png": "[encoded data removed]",
      "text/plain": [
       "<Figure size 640x480 with 1 Axes>"
      ]
     },
     "metadata": {},
     "output_type": "display_data"
    },
    {
     "name": "stdout",
     "output_type": "stream",
     "text": [
      "drive-wheels\n",
      "-0.04391416479065971\n"
     ]
    },
    {
     "name": "stderr",
     "output_type": "stream",
     "text": [
      "C:\\Users\\P NAVYASRI\\AppData\\Local\\Temp\\ipykernel_11416\\4100437337.py:6: UserWarning: \n",
      "\n",
      "`distplot` is a deprecated function and will be removed in seaborn v0.14.0.\n",
      "\n",
      "Please adapt your code to use either `displot` (a figure-level function with\n",
      "similar flexibility) or `histplot` (an axes-level function for histograms).\n",
      "\n",
      "For a guide to updating your code to use the new functions, please see\n",
      "https://gist.github.com/mwaskom/de44147ed2974457ad6372750bbe5751\n",
      "\n",
      "  sns.distplot(df[i])\n"
     ]
    },
    {
     "data": {
      "image/png": "[encoded data removed]",
      "text/plain": [
       "<Figure size 640x480 with 1 Axes>"
      ]
     },
     "metadata": {},
     "output_type": "display_data"
    },
    {
     "name": "stdout",
     "output_type": "stream",
     "text": [
      "engine-location\n",
      "7.853812671113911\n"
     ]
    },
    {
     "name": "stderr",
     "output_type": "stream",
     "text": [
      "C:\\Users\\P NAVYASRI\\AppData\\Local\\Temp\\ipykernel_11416\\4100437337.py:6: UserWarning: \n",
      "\n",
      "`distplot` is a deprecated function and will be removed in seaborn v0.14.0.\n",
      "\n",
      "Please adapt your code to use either `displot` (a figure-level function with\n",
      "similar flexibility) or `histplot` (an axes-level function for histograms).\n",
      "\n",
      "For a guide to updating your code to use the new functions, please see\n",
      "https://gist.github.com/mwaskom/de44147ed2974457ad6372750bbe5751\n",
      "\n",
      "  sns.distplot(df[i])\n"
     ]
    },
    {
     "data": {
      "image/png": "[encoded data removed]",
      "text/plain": [
       "<Figure size 640x480 with 1 Axes>"
      ]
     },
     "metadata": {},
     "output_type": "display_data"
    },
    {
     "name": "stdout",
     "output_type": "stream",
     "text": [
      "width\n",
      "0.9140400320504322\n"
     ]
    },
    {
     "name": "stderr",
     "output_type": "stream",
     "text": [
      "C:\\Users\\P NAVYASRI\\AppData\\Local\\Temp\\ipykernel_11416\\4100437337.py:6: UserWarning: \n",
      "\n",
      "`distplot` is a deprecated function and will be removed in seaborn v0.14.0.\n",
      "\n",
      "Please adapt your code to use either `displot` (a figure-level function with\n",
      "similar flexibility) or `histplot` (an axes-level function for histograms).\n",
      "\n",
      "For a guide to updating your code to use the new functions, please see\n",
      "https://gist.github.com/mwaskom/de44147ed2974457ad6372750bbe5751\n",
      "\n",
      "  sns.distplot(df[i])\n"
     ]
    },
    {
     "data": {
      "image/png": "[encoded data removed]",
      "text/plain": [
       "<Figure size 640x480 with 1 Axes>"
      ]
     },
     "metadata": {},
     "output_type": "display_data"
    },
    {
     "name": "stdout",
     "output_type": "stream",
     "text": [
      "height\n",
      "0.013839962443639326\n"
     ]
    },
    {
     "name": "stderr",
     "output_type": "stream",
     "text": [
      "C:\\Users\\P NAVYASRI\\AppData\\Local\\Temp\\ipykernel_11416\\4100437337.py:6: UserWarning: \n",
      "\n",
      "`distplot` is a deprecated function and will be removed in seaborn v0.14.0.\n",
      "\n",
      "Please adapt your code to use either `displot` (a figure-level function with\n",
      "similar flexibility) or `histplot` (an axes-level function for histograms).\n",
      "\n",
      "For a guide to updating your code to use the new functions, please see\n",
      "https://gist.github.com/mwaskom/de44147ed2974457ad6372750bbe5751\n",
      "\n",
      "  sns.distplot(df[i])\n"
     ]
    },
    {
     "data": {
      "image/png": "[encoded data removed]",
      "text/plain": [
       "<Figure size 640x480 with 1 Axes>"
      ]
     },
     "metadata": {},
     "output_type": "display_data"
    },
    {
     "name": "stdout",
     "output_type": "stream",
     "text": [
      "engine-type\n",
      "-0.28288874330760644\n"
     ]
    },
    {
     "name": "stderr",
     "output_type": "stream",
     "text": [
      "C:\\Users\\P NAVYASRI\\AppData\\Local\\Temp\\ipykernel_11416\\4100437337.py:6: UserWarning: \n",
      "\n",
      "`distplot` is a deprecated function and will be removed in seaborn v0.14.0.\n",
      "\n",
      "Please adapt your code to use either `displot` (a figure-level function with\n",
      "similar flexibility) or `histplot` (an axes-level function for histograms).\n",
      "\n",
      "For a guide to updating your code to use the new functions, please see\n",
      "https://gist.github.com/mwaskom/de44147ed2974457ad6372750bbe5751\n",
      "\n",
      "  sns.distplot(df[i])\n"
     ]
    },
    {
     "data": {
      "image/png": "[encoded data removed]",
      "text/plain": [
       "<Figure size 640x480 with 1 Axes>"
      ]
     },
     "metadata": {},
     "output_type": "display_data"
    },
    {
     "name": "stdout",
     "output_type": "stream",
     "text": [
      "engine-size\n",
      "2.0541257626466156\n"
     ]
    },
    {
     "name": "stderr",
     "output_type": "stream",
     "text": [
      "C:\\Users\\P NAVYASRI\\AppData\\Local\\Temp\\ipykernel_11416\\4100437337.py:6: UserWarning: \n",
      "\n",
      "`distplot` is a deprecated function and will be removed in seaborn v0.14.0.\n",
      "\n",
      "Please adapt your code to use either `displot` (a figure-level function with\n",
      "similar flexibility) or `histplot` (an axes-level function for histograms).\n",
      "\n",
      "For a guide to updating your code to use the new functions, please see\n",
      "https://gist.github.com/mwaskom/de44147ed2974457ad6372750bbe5751\n",
      "\n",
      "  sns.distplot(df[i])\n"
     ]
    },
    {
     "data": {
      "image/png": "[encoded data removed]",
      "text/plain": [
       "<Figure size 640x480 with 1 Axes>"
      ]
     },
     "metadata": {},
     "output_type": "display_data"
    },
    {
     "name": "stdout",
     "output_type": "stream",
     "text": [
      "horsepower\n",
      "1.5556576549504106\n"
     ]
    },
    {
     "name": "stderr",
     "output_type": "stream",
     "text": [
      "C:\\Users\\P NAVYASRI\\AppData\\Local\\Temp\\ipykernel_11416\\4100437337.py:6: UserWarning: \n",
      "\n",
      "`distplot` is a deprecated function and will be removed in seaborn v0.14.0.\n",
      "\n",
      "Please adapt your code to use either `displot` (a figure-level function with\n",
      "similar flexibility) or `histplot` (an axes-level function for histograms).\n",
      "\n",
      "For a guide to updating your code to use the new functions, please see\n",
      "https://gist.github.com/mwaskom/de44147ed2974457ad6372750bbe5751\n",
      "\n",
      "  sns.distplot(df[i])\n"
     ]
    },
    {
     "data": {
      "image/png": "[encoded data removed]",
      "text/plain": [
       "<Figure size 640x480 with 1 Axes>"
      ]
     },
     "metadata": {},
     "output_type": "display_data"
    },
    {
     "name": "stdout",
     "output_type": "stream",
     "text": [
      "city-mpg\n",
      "0.5999073033714895\n"
     ]
    },
    {
     "name": "stderr",
     "output_type": "stream",
     "text": [
      "C:\\Users\\P NAVYASRI\\AppData\\Local\\Temp\\ipykernel_11416\\4100437337.py:6: UserWarning: \n",
      "\n",
      "`distplot` is a deprecated function and will be removed in seaborn v0.14.0.\n",
      "\n",
      "Please adapt your code to use either `displot` (a figure-level function with\n",
      "similar flexibility) or `histplot` (an axes-level function for histograms).\n",
      "\n",
      "For a guide to updating your code to use the new functions, please see\n",
      "https://gist.github.com/mwaskom/de44147ed2974457ad6372750bbe5751\n",
      "\n",
      "  sns.distplot(df[i])\n"
     ]
    },
    {
     "data": {
      "image/png": "[encoded data removed]",
      "text/plain": [
       "<Figure size 640x480 with 1 Axes>"
      ]
     },
     "metadata": {},
     "output_type": "display_data"
    },
    {
     "name": "stdout",
     "output_type": "stream",
     "text": [
      "highway-mpg\n",
      "0.4760310091695327\n"
     ]
    },
    {
     "name": "stderr",
     "output_type": "stream",
     "text": [
      "C:\\Users\\P NAVYASRI\\AppData\\Local\\Temp\\ipykernel_11416\\4100437337.py:6: UserWarning: \n",
      "\n",
      "`distplot` is a deprecated function and will be removed in seaborn v0.14.0.\n",
      "\n",
      "Please adapt your code to use either `displot` (a figure-level function with\n",
      "similar flexibility) or `histplot` (an axes-level function for histograms).\n",
      "\n",
      "For a guide to updating your code to use the new functions, please see\n",
      "https://gist.github.com/mwaskom/de44147ed2974457ad6372750bbe5751\n",
      "\n",
      "  sns.distplot(df[i])\n"
     ]
    },
    {
     "data": {
      "image/png": "[encoded data removed]",
      "text/plain": [
       "<Figure size 640x480 with 1 Axes>"
      ]
     },
     "metadata": {},
     "output_type": "display_data"
    },
    {
     "name": "stdout",
     "output_type": "stream",
     "text": [
      "price\n",
      "1.8166794702973463\n"
     ]
    },
    {
     "name": "stderr",
     "output_type": "stream",
     "text": [
      "C:\\Users\\P NAVYASRI\\AppData\\Local\\Temp\\ipykernel_11416\\4100437337.py:6: UserWarning: \n",
      "\n",
      "`distplot` is a deprecated function and will be removed in seaborn v0.14.0.\n",
      "\n",
      "Please adapt your code to use either `displot` (a figure-level function with\n",
      "similar flexibility) or `histplot` (an axes-level function for histograms).\n",
      "\n",
      "For a guide to updating your code to use the new functions, please see\n",
      "https://gist.github.com/mwaskom/de44147ed2974457ad6372750bbe5751\n",
      "\n",
      "  sns.distplot(df[i])\n"
     ]
    },
    {
     "data": {
      "image/png": "[encoded data removed]",
      "text/plain": [
       "<Figure size 640x480 with 1 Axes>"
      ]
     },
     "metadata": {},
     "output_type": "display_data"
    }
   ],
   "source": [
    "for i in df:\n",
    "    print(i)\n",
    "    print(skew(df[i]))\n",
    "    \n",
    "    plt.figure\n",
    "    sns.distplot(df[i])\n",
    "    plt.show()"
   ]
  },
  {
   "cell_type": "code",
   "execution_count": 113,
   "id": "bf7abf82",
   "metadata": {},
   "outputs": [],
   "source": [
    "df[\"normalized-losses\"]=np.log(df[\"normalized-losses\"])"
   ]
  },
  {
   "cell_type": "code",
   "execution_count": 114,
   "id": "db6d86ad",
   "metadata": {},
   "outputs": [
    {
     "data": {
      "text/plain": [
       "symboling            0.215539\n",
       "normalized-losses    0.018613\n",
       "make                -0.236195\n",
       "fuel-type           -2.630931\n",
       "body-style          -0.658239\n",
       "drive-wheels        -0.044257\n",
       "engine-location      7.915144\n",
       "width                0.921178\n",
       "height               0.013948\n",
       "engine-type         -0.285098\n",
       "engine-size          2.070167\n",
       "horsepower           1.567806\n",
       "city-mpg             0.604592\n",
       "highway-mpg          0.479748\n",
       "price                1.830866\n",
       "dtype: float64"
      ]
     },
     "execution_count": 114,
     "metadata": {},
     "output_type": "execute_result"
    }
   ],
   "source": [
    "df.skew()"
   ]
  },
  {
   "cell_type": "code",
   "execution_count": 115,
   "id": "1acab3cd",
   "metadata": {},
   "outputs": [
    {
     "data": {
      "text/plain": [
       "fuel-type           -2.630931\n",
       "body-style          -0.658239\n",
       "engine-type         -0.285098\n",
       "make                -0.236195\n",
       "drive-wheels        -0.044257\n",
       "height               0.013948\n",
       "normalized-losses    0.018613\n",
       "symboling            0.215539\n",
       "highway-mpg          0.479748\n",
       "city-mpg             0.604592\n",
       "width                0.921178\n",
       "horsepower           1.567806\n",
       "price                1.830866\n",
       "engine-size          2.070167\n",
       "engine-location      7.915144\n",
       "dtype: float64"
      ]
     },
     "execution_count": 115,
     "metadata": {},
     "output_type": "execute_result"
    }
   ],
   "source": [
    "df.skew().sort_values()"
   ]
  },
  {
   "cell_type": "code",
   "execution_count": 116,
   "id": "4cdcaa6c",
   "metadata": {},
   "outputs": [],
   "source": [
    "\n",
    "df = pd.DataFrame(df)  # Convert NumPy array to DataFrame\n",
    "X = df.iloc[:, :-1]  # Access DataFrame using .iloc\n",
    "y = df.iloc[:,-1]"
   ]
  },
  {
   "cell_type": "code",
   "execution_count": 117,
   "id": "d923773d",
   "metadata": {},
   "outputs": [
    {
     "data": {
      "text/plain": [
       "0      13495\n",
       "1      16500\n",
       "2      16500\n",
       "3      13950\n",
       "4      17450\n",
       "       ...  \n",
       "200    16845\n",
       "201    19045\n",
       "202    21485\n",
       "203    22470\n",
       "204    22625\n",
       "Name: price, Length: 194, dtype: int64"
      ]
     },
     "execution_count": 117,
     "metadata": {},
     "output_type": "execute_result"
    }
   ],
   "source": [
    "y"
   ]
  },
  {
   "cell_type": "code",
   "execution_count": 118,
   "id": "3d5cb886",
   "metadata": {},
   "outputs": [
    {
     "data": {
      "text/html": [
       "<div>\n",
       "<style scoped>\n",
       "    .dataframe tbody tr th:only-of-type {\n",
       "        vertical-align: middle;\n",
       "    }\n",
       "\n",
       "    .dataframe tbody tr th {\n",
       "        vertical-align: top;\n",
       "    }\n",
       "\n",
       "    .dataframe thead th {\n",
       "        text-align: right;\n",
       "    }\n",
       "</style>\n",
       "<table border=\"1\" class=\"dataframe\">\n",
       "  <thead>\n",
       "    <tr style=\"text-align: right;\">\n",
       "      <th></th>\n",
       "      <th>symboling</th>\n",
       "      <th>normalized-losses</th>\n",
       "      <th>make</th>\n",
       "      <th>fuel-type</th>\n",
       "      <th>body-style</th>\n",
       "      <th>drive-wheels</th>\n",
       "      <th>engine-location</th>\n",
       "      <th>width</th>\n",
       "      <th>height</th>\n",
       "      <th>engine-type</th>\n",
       "      <th>engine-size</th>\n",
       "      <th>horsepower</th>\n",
       "      <th>city-mpg</th>\n",
       "      <th>highway-mpg</th>\n",
       "    </tr>\n",
       "  </thead>\n",
       "  <tbody>\n",
       "    <tr>\n",
       "      <th>0</th>\n",
       "      <td>3</td>\n",
       "      <td>4.804021</td>\n",
       "      <td>0.0</td>\n",
       "      <td>1.0</td>\n",
       "      <td>0.0</td>\n",
       "      <td>2.0</td>\n",
       "      <td>0.0</td>\n",
       "      <td>64.1</td>\n",
       "      <td>48.8</td>\n",
       "      <td>0.0</td>\n",
       "      <td>130</td>\n",
       "      <td>111.0</td>\n",
       "      <td>21</td>\n",
       "      <td>27</td>\n",
       "    </tr>\n",
       "    <tr>\n",
       "      <th>1</th>\n",
       "      <td>3</td>\n",
       "      <td>4.804021</td>\n",
       "      <td>0.0</td>\n",
       "      <td>1.0</td>\n",
       "      <td>0.0</td>\n",
       "      <td>2.0</td>\n",
       "      <td>0.0</td>\n",
       "      <td>64.1</td>\n",
       "      <td>48.8</td>\n",
       "      <td>0.0</td>\n",
       "      <td>130</td>\n",
       "      <td>111.0</td>\n",
       "      <td>21</td>\n",
       "      <td>27</td>\n",
       "    </tr>\n",
       "    <tr>\n",
       "      <th>2</th>\n",
       "      <td>1</td>\n",
       "      <td>4.804021</td>\n",
       "      <td>0.0</td>\n",
       "      <td>1.0</td>\n",
       "      <td>2.0</td>\n",
       "      <td>2.0</td>\n",
       "      <td>0.0</td>\n",
       "      <td>65.5</td>\n",
       "      <td>52.4</td>\n",
       "      <td>5.0</td>\n",
       "      <td>152</td>\n",
       "      <td>154.0</td>\n",
       "      <td>19</td>\n",
       "      <td>26</td>\n",
       "    </tr>\n",
       "    <tr>\n",
       "      <th>3</th>\n",
       "      <td>2</td>\n",
       "      <td>5.099866</td>\n",
       "      <td>1.0</td>\n",
       "      <td>1.0</td>\n",
       "      <td>3.0</td>\n",
       "      <td>1.0</td>\n",
       "      <td>0.0</td>\n",
       "      <td>66.2</td>\n",
       "      <td>54.3</td>\n",
       "      <td>3.0</td>\n",
       "      <td>109</td>\n",
       "      <td>102.0</td>\n",
       "      <td>24</td>\n",
       "      <td>30</td>\n",
       "    </tr>\n",
       "    <tr>\n",
       "      <th>4</th>\n",
       "      <td>2</td>\n",
       "      <td>5.099866</td>\n",
       "      <td>1.0</td>\n",
       "      <td>1.0</td>\n",
       "      <td>3.0</td>\n",
       "      <td>0.0</td>\n",
       "      <td>0.0</td>\n",
       "      <td>66.4</td>\n",
       "      <td>54.3</td>\n",
       "      <td>3.0</td>\n",
       "      <td>136</td>\n",
       "      <td>115.0</td>\n",
       "      <td>18</td>\n",
       "      <td>22</td>\n",
       "    </tr>\n",
       "    <tr>\n",
       "      <th>...</th>\n",
       "      <td>...</td>\n",
       "      <td>...</td>\n",
       "      <td>...</td>\n",
       "      <td>...</td>\n",
       "      <td>...</td>\n",
       "      <td>...</td>\n",
       "      <td>...</td>\n",
       "      <td>...</td>\n",
       "      <td>...</td>\n",
       "      <td>...</td>\n",
       "      <td>...</td>\n",
       "      <td>...</td>\n",
       "      <td>...</td>\n",
       "      <td>...</td>\n",
       "    </tr>\n",
       "    <tr>\n",
       "      <th>200</th>\n",
       "      <td>-1</td>\n",
       "      <td>4.553877</td>\n",
       "      <td>21.0</td>\n",
       "      <td>1.0</td>\n",
       "      <td>3.0</td>\n",
       "      <td>2.0</td>\n",
       "      <td>0.0</td>\n",
       "      <td>68.9</td>\n",
       "      <td>55.5</td>\n",
       "      <td>3.0</td>\n",
       "      <td>141</td>\n",
       "      <td>114.0</td>\n",
       "      <td>23</td>\n",
       "      <td>28</td>\n",
       "    </tr>\n",
       "    <tr>\n",
       "      <th>201</th>\n",
       "      <td>-1</td>\n",
       "      <td>4.553877</td>\n",
       "      <td>21.0</td>\n",
       "      <td>1.0</td>\n",
       "      <td>3.0</td>\n",
       "      <td>2.0</td>\n",
       "      <td>0.0</td>\n",
       "      <td>68.8</td>\n",
       "      <td>55.5</td>\n",
       "      <td>3.0</td>\n",
       "      <td>141</td>\n",
       "      <td>160.0</td>\n",
       "      <td>19</td>\n",
       "      <td>25</td>\n",
       "    </tr>\n",
       "    <tr>\n",
       "      <th>202</th>\n",
       "      <td>-1</td>\n",
       "      <td>4.553877</td>\n",
       "      <td>21.0</td>\n",
       "      <td>1.0</td>\n",
       "      <td>3.0</td>\n",
       "      <td>2.0</td>\n",
       "      <td>0.0</td>\n",
       "      <td>68.9</td>\n",
       "      <td>55.5</td>\n",
       "      <td>5.0</td>\n",
       "      <td>173</td>\n",
       "      <td>134.0</td>\n",
       "      <td>18</td>\n",
       "      <td>23</td>\n",
       "    </tr>\n",
       "    <tr>\n",
       "      <th>203</th>\n",
       "      <td>-1</td>\n",
       "      <td>4.553877</td>\n",
       "      <td>21.0</td>\n",
       "      <td>0.0</td>\n",
       "      <td>3.0</td>\n",
       "      <td>2.0</td>\n",
       "      <td>0.0</td>\n",
       "      <td>68.9</td>\n",
       "      <td>55.5</td>\n",
       "      <td>3.0</td>\n",
       "      <td>145</td>\n",
       "      <td>106.0</td>\n",
       "      <td>26</td>\n",
       "      <td>27</td>\n",
       "    </tr>\n",
       "    <tr>\n",
       "      <th>204</th>\n",
       "      <td>-1</td>\n",
       "      <td>4.553877</td>\n",
       "      <td>21.0</td>\n",
       "      <td>1.0</td>\n",
       "      <td>3.0</td>\n",
       "      <td>2.0</td>\n",
       "      <td>0.0</td>\n",
       "      <td>68.9</td>\n",
       "      <td>55.5</td>\n",
       "      <td>3.0</td>\n",
       "      <td>141</td>\n",
       "      <td>114.0</td>\n",
       "      <td>19</td>\n",
       "      <td>25</td>\n",
       "    </tr>\n",
       "  </tbody>\n",
       "</table>\n",
       "<p>194 rows × 14 columns</p>\n",
       "</div>"
      ],
      "text/plain": [
       "     symboling  normalized-losses  make  fuel-type  body-style  drive-wheels  \\\n",
       "0            3           4.804021   0.0        1.0         0.0           2.0   \n",
       "1            3           4.804021   0.0        1.0         0.0           2.0   \n",
       "2            1           4.804021   0.0        1.0         2.0           2.0   \n",
       "3            2           5.099866   1.0        1.0         3.0           1.0   \n",
       "4            2           5.099866   1.0        1.0         3.0           0.0   \n",
       "..         ...                ...   ...        ...         ...           ...   \n",
       "200         -1           4.553877  21.0        1.0         3.0           2.0   \n",
       "201         -1           4.553877  21.0        1.0         3.0           2.0   \n",
       "202         -1           4.553877  21.0        1.0         3.0           2.0   \n",
       "203         -1           4.553877  21.0        0.0         3.0           2.0   \n",
       "204         -1           4.553877  21.0        1.0         3.0           2.0   \n",
       "\n",
       "     engine-location  width  height  engine-type  engine-size  horsepower  \\\n",
       "0                0.0   64.1    48.8          0.0          130       111.0   \n",
       "1                0.0   64.1    48.8          0.0          130       111.0   \n",
       "2                0.0   65.5    52.4          5.0          152       154.0   \n",
       "3                0.0   66.2    54.3          3.0          109       102.0   \n",
       "4                0.0   66.4    54.3          3.0          136       115.0   \n",
       "..               ...    ...     ...          ...          ...         ...   \n",
       "200              0.0   68.9    55.5          3.0          141       114.0   \n",
       "201              0.0   68.8    55.5          3.0          141       160.0   \n",
       "202              0.0   68.9    55.5          5.0          173       134.0   \n",
       "203              0.0   68.9    55.5          3.0          145       106.0   \n",
       "204              0.0   68.9    55.5          3.0          141       114.0   \n",
       "\n",
       "     city-mpg  highway-mpg  \n",
       "0          21           27  \n",
       "1          21           27  \n",
       "2          19           26  \n",
       "3          24           30  \n",
       "4          18           22  \n",
       "..        ...          ...  \n",
       "200        23           28  \n",
       "201        19           25  \n",
       "202        18           23  \n",
       "203        26           27  \n",
       "204        19           25  \n",
       "\n",
       "[194 rows x 14 columns]"
      ]
     },
     "execution_count": 118,
     "metadata": {},
     "output_type": "execute_result"
    }
   ],
   "source": [
    "X"
   ]
  },
  {
   "cell_type": "code",
   "execution_count": 119,
   "id": "266d047e",
   "metadata": {},
   "outputs": [],
   "source": [
    "from sklearn.preprocessing import StandardScaler\n",
    "sc=StandardScaler()"
   ]
  },
  {
   "cell_type": "code",
   "execution_count": 122,
   "id": "51057476",
   "metadata": {},
   "outputs": [],
   "source": [
    "X=sc.fit_transform(X)"
   ]
  },
  {
   "cell_type": "code",
   "execution_count": 123,
   "id": "d7a884b0",
   "metadata": {},
   "outputs": [
    {
     "data": {
      "text/plain": [
       "array([[ 1.84617334,  0.14615221, -1.93400671, ...,  0.21857766,\n",
       "        -0.67576177, -0.58047414],\n",
       "       [ 1.84617334,  0.14615221, -1.93400671, ...,  0.21857766,\n",
       "        -0.67576177, -0.58047414],\n",
       "       [ 0.17644081,  0.14615221, -1.93400671, ...,  1.3153526 ,\n",
       "        -0.982065  , -0.72615588],\n",
       "       ...,\n",
       "       [-1.49329173, -0.8424452 ,  1.413123  , ...,  0.80522472,\n",
       "        -1.13521662, -1.16320109],\n",
       "       [-1.49329173, -0.8424452 ,  1.413123  , ...,  0.09104569,\n",
       "         0.08999631, -0.58047414],\n",
       "       [-1.49329173, -0.8424452 ,  1.413123  , ...,  0.29509684,\n",
       "        -0.982065  , -0.87183761]])"
      ]
     },
     "execution_count": 123,
     "metadata": {},
     "output_type": "execute_result"
    }
   ],
   "source": [
    "X"
   ]
  },
  {
   "cell_type": "code",
   "execution_count": null,
   "id": "ce328f64",
   "metadata": {},
   "outputs": [],
   "source": []
  },
  {
   "cell_type": "code",
   "execution_count": 124,
   "id": "a67edc36",
   "metadata": {},
   "outputs": [],
   "source": [
    "import numpy as np\n",
    "from sklearn.model_selection import train_test_split\n"
   ]
  },
  {
   "cell_type": "code",
   "execution_count": 125,
   "id": "53253b5d",
   "metadata": {},
   "outputs": [],
   "source": [
    "X_train, X_test, y_train, y_test = train_test_split(X, y, test_size=0.33, random_state=2)"
   ]
  },
  {
   "cell_type": "code",
   "execution_count": 126,
   "id": "29428601",
   "metadata": {},
   "outputs": [
    {
     "data": {
      "text/plain": [
       "array([[-0.65842546, -0.56146624,  0.93496161, ..., -0.52110776,\n",
       "        -0.21630692, -0.87183761],\n",
       "       [ 0.17644081, -1.82972911,  1.09434874, ..., -1.03123564,\n",
       "         0.85575439,  1.02202497],\n",
       "       [ 0.17644081,  1.41060214,  1.09434874, ...,  0.24408405,\n",
       "         0.08999631, -0.28911066],\n",
       "       ...,\n",
       "       [ 0.17644081,  0.14615221, -0.34013542, ...,  1.85098687,\n",
       "        -0.982065  , -1.01751935],\n",
       "       [-0.65842546,  0.14615221, -1.61523245, ...,  2.02953162,\n",
       "        -1.44151985, -1.30888283],\n",
       "       [-1.49329173, -2.34223024,  1.09434874, ..., -0.26604383,\n",
       "         0.24314793,  0.14793455]])"
      ]
     },
     "execution_count": 126,
     "metadata": {},
     "output_type": "execute_result"
    }
   ],
   "source": [
    "X_train\n"
   ]
  },
  {
   "cell_type": "code",
   "execution_count": 127,
   "id": "eb890c9a",
   "metadata": {},
   "outputs": [
    {
     "data": {
      "text/plain": [
       "array([[ 1.76440809e-01,  1.44029840e-02, -1.29645819e+00,\n",
       "         3.39031752e-01, -7.48984258e-01, -5.66248758e-01,\n",
       "        -1.25326798e-01, -9.58139877e-01, -1.23771576e+00,\n",
       "        -7.81621138e-02, -6.58954392e-01, -1.09798866e-02,\n",
       "        -2.16306922e-01, -1.43428927e-01],\n",
       "       [ 1.76440809e-01,  1.46152211e-01,  4.56800225e-01,\n",
       "         3.39031752e-01, -7.48984258e-01,  1.23460795e+00,\n",
       "        -1.25326798e-01,  2.93437714e+00, -1.36057958e+00,\n",
       "        -2.09995546e+00,  1.84531818e+00,  4.73320938e+00,\n",
       "        -1.28836823e+00, -4.34792402e-01],\n",
       "       [-6.58425459e-01, -1.62167524e+00, -1.13707106e+00,\n",
       "         3.39031752e-01,  1.61366527e+00, -5.66248758e-01,\n",
       "        -1.25326798e-01, -9.12345559e-01,  1.83387973e+00,\n",
       "        -7.81621138e-02, -8.02055682e-01, -6.74146128e-01,\n",
       "         7.02602775e-01,  4.39298023e-01],\n",
       "       [ 1.01130708e+00,  1.93833300e+00, -1.61523245e+00,\n",
       "         3.39031752e-01,  4.32340507e-01,  1.23460795e+00,\n",
       "        -1.25326798e-01, -5.00196699e-01,  1.95695465e-01,\n",
       "        -7.81621138e-02, -4.20452243e-01, -3.64862805e-02,\n",
       "        -3.69458538e-01, -2.89110665e-01],\n",
       "       [ 1.76440809e-01, -4.84723813e-01, -6.58909677e-01,\n",
       "         3.39031752e-01, -7.48984258e-01, -5.66248758e-01,\n",
       "        -1.25326798e-01, -7.74962606e-01,  1.13786252e-01,\n",
       "        -7.81621138e-02, -8.25905897e-01, -8.78197279e-01,\n",
       "         8.55754391e-01,  1.02202497e+00],\n",
       "       [ 1.76440809e-01,  1.46152211e-01, -1.93400671e+00,\n",
       "         3.39031752e-01, -7.48984258e-01,  1.23460795e+00,\n",
       "        -1.25326798e-01, -1.79636474e-01, -5.82442059e-01,\n",
       "         1.94363123e+00,  6.28957215e-01,  1.31535260e+00,\n",
       "        -9.82065002e-01, -7.26155877e-01],\n",
       "       [ 1.84617334e+00,  9.62714620e-01,  7.75574482e-01,\n",
       "         3.39031752e-01, -7.48984258e-01, -5.66248758e-01,\n",
       "        -1.25326798e-01,  2.78306705e-01,  9.32878383e-01,\n",
       "        -3.11085213e+00, -1.10399449e-01,  1.46839096e+00,\n",
       "        -9.82065002e-01, -7.26155877e-01],\n",
       "       [ 1.01130708e+00,  6.04438511e-01, -1.13707106e+00,\n",
       "         3.39031752e-01, -7.48984258e-01, -5.66248758e-01,\n",
       "        -1.25326798e-01, -9.12345559e-01, -1.23771576e+00,\n",
       "        -7.81621138e-02, -8.02055682e-01, -1.13326122e+00,\n",
       "         3.61248348e+00,  3.35293277e+00],\n",
       "       [ 1.76440809e-01,  3.35889965e-01, -2.13611616e-02,\n",
       "         3.39031752e-01,  4.32340507e-01, -5.66248758e-01,\n",
       "        -1.25326798e-01, -9.58139877e-01,  2.77604678e-01,\n",
       "        -7.81621138e-02, -6.82804607e-01, -8.52690885e-01,\n",
       "         8.55754391e-01,  8.76343235e-01],\n",
       "       [ 1.01130708e+00,  5.16934328e-01,  1.09434874e+00,\n",
       "         3.39031752e-01, -1.93030902e+00,  1.23460795e+00,\n",
       "        -1.25326798e-01, -1.33842156e-01, -7.46260485e-01,\n",
       "        -7.81621138e-02,  4.85855925e-01,  3.46109628e-01,\n",
       "        -2.16306922e-01, -1.43428927e-01],\n",
       "       [ 1.01130708e+00,  5.16934328e-01,  1.09434874e+00,\n",
       "         3.39031752e-01, -7.48984258e-01,  1.23460795e+00,\n",
       "        -1.25326798e-01, -1.33842156e-01, -7.46260485e-01,\n",
       "        -7.81621138e-02,  4.85855925e-01,  3.46109628e-01,\n",
       "        -2.16306922e-01, -1.43428927e-01],\n",
       "       [ 1.01130708e+00, -4.84723813e-01,  7.75574482e-01,\n",
       "         3.39031752e-01,  4.32340507e-01, -5.66248758e-01,\n",
       "        -1.25326798e-01,  2.78306705e-01,  9.32878383e-01,\n",
       "        -7.81621138e-02, -1.10399449e-01,  1.93071265e-01,\n",
       "        -6.75761770e-01, -4.34792402e-01],\n",
       "       [-6.58425459e-01,  1.85512760e+00, -1.61523245e+00,\n",
       "         3.39031752e-01,  4.32340507e-01,  1.23460795e+00,\n",
       "        -1.25326798e-01, -5.00196699e-01,  1.95695465e-01,\n",
       "        -7.81621138e-02,  9.15159794e-01,  4.73641597e-01,\n",
       "        -6.75761770e-01, -4.34792402e-01],\n",
       "       [ 1.76440809e-01,  1.46152211e-01, -1.61523245e+00,\n",
       "         3.39031752e-01,  4.32340507e-01,  1.23460795e+00,\n",
       "        -1.25326798e-01,  4.61483976e-01,  7.69059957e-01,\n",
       "        -7.81621138e-02,  9.15159794e-01,  4.73641597e-01,\n",
       "        -8.28913386e-01, -8.71837615e-01],\n",
       "       [-6.58425459e-01,  1.24240183e+00,  1.38025967e-01,\n",
       "         3.39031752e-01,  4.32340507e-01,  1.23460795e+00,\n",
       "        -1.25326798e-01,  1.14839874e+00,  1.17860602e+00,\n",
       "        -1.08905879e+00, -1.34249664e-01, -1.89524644e-01,\n",
       "        -9.82065002e-01, -1.01751935e+00],\n",
       "       [ 1.01130708e+00,  1.31536595e+00, -1.77461958e+00,\n",
       "         3.39031752e-01,  4.32340507e-01, -5.66248758e-01,\n",
       "        -1.25326798e-01,  1.40923751e-01,  1.95695465e-01,\n",
       "        -7.81621138e-02, -3.96602028e-01, -1.09798866e-02,\n",
       "        -2.16306922e-01, -1.43428927e-01],\n",
       "       [ 1.76440809e-01,  1.16806527e+00, -1.77461958e+00,\n",
       "         3.39031752e-01,  4.32340507e-01, -5.66248758e-01,\n",
       "        -1.25326798e-01,  2.52222828e+00,  7.69059957e-01,\n",
       "        -7.81621138e-02,  2.47353776e-01,  1.93071265e-01,\n",
       "        -9.82065002e-01, -8.71837615e-01],\n",
       "       [ 1.76440809e-01,  9.09665356e-01, -1.29645819e+00,\n",
       "         3.39031752e-01,  4.32340507e-01, -5.66248758e-01,\n",
       "        -1.25326798e-01, -9.58139877e-01, -1.31962498e+00,\n",
       "        -7.81621138e-02, -8.49756112e-01, -8.78197279e-01,\n",
       "         8.55754391e-01,  1.02202497e+00],\n",
       "       [-6.58425459e-01, -8.73737343e-02, -6.58909677e-01,\n",
       "         3.39031752e-01,  4.32340507e-01, -5.66248758e-01,\n",
       "        -1.25326798e-01,  2.78306705e-01,  6.87150744e-01,\n",
       "        -7.81621138e-02, -8.65492336e-02, -4.70094977e-01,\n",
       "         8.99963105e-02,  1.47934548e-01],\n",
       "       [-1.49329173e+00, -9.26535838e-01, -4.99522548e-01,\n",
       "        -2.94957624e+00,  1.61366527e+00,  1.23460795e+00,\n",
       "        -1.25326798e-01,  2.01849078e+00,  1.99769815e+00,\n",
       "        -7.81621138e-02,  1.36831388e+00,  5.24654385e-01,\n",
       "        -5.22610154e-01, -8.71837615e-01],\n",
       "       [ 1.84617334e+00,  9.62714620e-01, -6.58909677e-01,\n",
       "         3.39031752e-01, -7.48984258e-01,  1.23460795e+00,\n",
       "        -1.25326798e-01, -8.80478379e-02, -1.72917104e+00,\n",
       "         2.95452790e+00, -1.32676041e+00, -3.64862805e-02,\n",
       "        -1.28836823e+00, -1.16320109e+00],\n",
       "       [ 1.01130708e+00,  1.46152211e-01,  6.16187353e-01,\n",
       "         3.39031752e-01, -7.48984258e-01, -5.66248758e-01,\n",
       "        -1.25326798e-01,  3.24101023e-01, -1.36057958e+00,\n",
       "        -7.81621138e-02,  1.51952916e-01,  4.65665587e-02,\n",
       "        -3.69458538e-01,  2.25281037e-03],\n",
       "       [-6.58425459e-01,  1.46152211e-01, -8.18296805e-01,\n",
       "         3.39031752e-01,  4.32340507e-01,  1.23460795e+00,\n",
       "        -1.25326798e-01,  1.69793056e+00, -4.18623633e-01,\n",
       "        -3.11085213e+00,  3.15708000e+00,  1.87649326e+00,\n",
       "        -1.59467147e+00, -1.74592804e+00],\n",
       "       [-1.49329173e+00, -1.82972911e+00,  2.97413096e-01,\n",
       "         3.39031752e-01,  1.61366527e+00, -5.66248758e-01,\n",
       "        -1.25326798e-01, -5.91785334e-01,  2.44819883e+00,\n",
       "        -7.81621138e-02, -8.65492336e-02, -3.68069401e-01,\n",
       "        -2.16306922e-01, -1.43428927e-01],\n",
       "       [ 1.01130708e+00,  1.46152211e-01,  1.25373587e+00,\n",
       "         3.39031752e-01,  4.32340507e-01, -5.66248758e-01,\n",
       "        -1.25326798e-01, -1.79636474e-01,  7.69059957e-01,\n",
       "        -7.81621138e-02, -3.96602028e-01, -4.44588583e-01,\n",
       "         2.43147927e-01,  4.39298023e-01],\n",
       "       [-6.58425459e-01, -9.26535838e-01, -4.99522548e-01,\n",
       "        -2.94957624e+00, -1.93030902e+00,  1.23460795e+00,\n",
       "        -1.25326798e-01,  2.01849078e+00,  4.41423105e-01,\n",
       "        -7.81621138e-02,  1.36831388e+00,  5.24654385e-01,\n",
       "        -5.22610154e-01, -8.71837615e-01],\n",
       "       [-6.58425459e-01,  1.46152211e-01, -1.77461958e+00,\n",
       "         3.39031752e-01, -7.48984258e-01, -2.36710546e+00,\n",
       "        -1.25326798e-01,  9.19427155e-01, -7.46260485e-01,\n",
       "        -7.81621138e-02,  1.28102701e-01,  1.46839096e+00,\n",
       "        -1.44151985e+00, -1.30888283e+00],\n",
       "       [-6.58425459e-01,  8.28731931e-01, -8.18296805e-01,\n",
       "         3.39031752e-01,  4.32340507e-01,  1.23460795e+00,\n",
       "        -1.25326798e-01,  1.69793056e+00, -4.18623633e-01,\n",
       "        -3.11085213e+00,  3.15708000e+00,  1.87649326e+00,\n",
       "        -1.59467147e+00, -1.74592804e+00],\n",
       "       [-6.58425459e-01,  1.24240183e+00,  1.38025967e-01,\n",
       "         3.39031752e-01,  4.32340507e-01,  1.23460795e+00,\n",
       "        -1.25326798e-01,  1.10260443e+00,  8.91923777e-01,\n",
       "        -1.08905879e+00,  1.99653346e-01,  1.00927587e+00,\n",
       "        -1.13521662e+00, -1.01751935e+00],\n",
       "       [-6.58425459e-01,  1.85512760e+00, -1.61523245e+00,\n",
       "         3.39031752e-01,  4.32340507e-01,  1.23460795e+00,\n",
       "        -1.25326798e-01, -5.00196699e-01,  1.95695465e-01,\n",
       "        -7.81621138e-02,  9.15159794e-01,  4.73641597e-01,\n",
       "        -6.75761770e-01, -4.34792402e-01],\n",
       "       [ 1.01130708e+00, -8.84266870e-01,  1.25373587e+00,\n",
       "         3.39031752e-01,  4.32340507e-01, -5.66248758e-01,\n",
       "        -1.25326798e-01, -1.79636474e-01,  7.69059957e-01,\n",
       "        -7.81621138e-02, -3.96602028e-01, -4.44588583e-01,\n",
       "         2.43147927e-01,  4.39298023e-01],\n",
       "       [-6.58425459e-01,  1.46152211e-01,  1.38025967e-01,\n",
       "         3.39031752e-01,  1.61366527e+00,  1.23460795e+00,\n",
       "        -1.25326798e-01,  1.14839874e+00,  1.17860602e+00,\n",
       "        -1.08905879e+00, -1.34249664e-01, -1.89524644e-01,\n",
       "        -9.82065002e-01, -1.01751935e+00],\n",
       "       [ 1.84617334e+00,  9.62714620e-01,  7.75574482e-01,\n",
       "         3.39031752e-01, -7.48984258e-01, -5.66248758e-01,\n",
       "        -1.25326798e-01,  2.78306705e-01,  9.32878383e-01,\n",
       "        -7.81621138e-02, -1.10399449e-01,  1.93071265e-01,\n",
       "        -6.75761770e-01, -4.34792402e-01],\n",
       "       [-6.58425459e-01, -1.28202124e+00,  9.34961611e-01,\n",
       "         3.39031752e-01,  1.61366527e+00, -2.36710546e+00,\n",
       "        -1.25326798e-01, -2.25430791e-01,  4.41423105e-01,\n",
       "         9.32734558e-01, -4.20452243e-01,  2.18577658e-01,\n",
       "        -3.69458538e-01, -1.16320109e+00],\n",
       "       [ 1.84617334e+00,  1.46152211e-01,  4.56800225e-01,\n",
       "         3.39031752e-01, -3.11163379e+00,  1.23460795e+00,\n",
       "         7.97913947e+00, -4.08608063e-01, -9.10078912e-01,\n",
       "         9.32734558e-01,  1.63066624e+00,  2.66719147e+00,\n",
       "        -1.28836823e+00, -8.71837615e-01],\n",
       "       [-6.58425459e-01, -1.01245467e+00,  1.09434874e+00,\n",
       "        -2.94957624e+00, -7.48984258e-01, -5.66248758e-01,\n",
       "        -1.25326798e-01, -6.83373970e-01, -4.18623633e-01,\n",
       "        -7.81621138e-02, -3.72751813e-01, -1.18427401e+00,\n",
       "         1.92781570e+00,  2.33316061e+00],\n",
       "       [ 1.76440809e-01,  1.41060214e+00,  1.09434874e+00,\n",
       "         3.39031752e-01,  4.32340507e-01,  1.23460795e+00,\n",
       "        -1.25326798e-01, -8.66551241e-01, -5.00532846e-01,\n",
       "        -7.81621138e-02, -6.58954392e-01, -8.27184491e-01,\n",
       "         5.49451159e-01,  4.39298023e-01],\n",
       "       [ 1.76440809e-01,  1.41060214e+00,  1.09434874e+00,\n",
       "         3.39031752e-01,  4.32340507e-01,  1.23460795e+00,\n",
       "        -1.25326798e-01, -8.66551241e-01, -5.00532846e-01,\n",
       "        -3.11085213e+00, -6.58954392e-01,  2.44084052e-01,\n",
       "         8.99963105e-02, -2.89110665e-01],\n",
       "       [ 1.84617334e+00,  1.97928789e+00, -2.13611616e-02,\n",
       "         3.39031752e-01, -7.48984258e-01,  1.23460795e+00,\n",
       "        -1.25326798e-01,  9.19427155e-01, -1.68821644e+00,\n",
       "         1.94363123e+00,  1.32061345e+00,  2.48864671e+00,\n",
       "        -1.28836823e+00, -1.16320109e+00],\n",
       "       [ 1.76440809e-01, -5.22908756e-01, -2.13611616e-02,\n",
       "         3.39031752e-01,  1.61366527e+00, -5.66248758e-01,\n",
       "        -1.25326798e-01, -9.58139877e-01, -1.31941387e-01,\n",
       "        -7.81621138e-02, -6.82804607e-01, -8.52690885e-01,\n",
       "         8.55754391e-01,  8.76343235e-01],\n",
       "       [-1.49329173e+00, -8.42445201e-01,  1.41312300e+00,\n",
       "         3.39031752e-01,  4.32340507e-01,  1.23460795e+00,\n",
       "        -1.25326798e-01,  1.37737033e+00,  6.87150744e-01,\n",
       "        -7.81621138e-02,  3.66604850e-01,  2.95096840e-01,\n",
       "        -9.82065002e-01, -8.71837615e-01],\n",
       "       [-6.58425459e-01,  1.46152211e-01, -9.77683934e-01,\n",
       "         3.39031752e-01,  4.32340507e-01,  1.23460795e+00,\n",
       "        -1.25326798e-01, -1.87402623e+00, -1.31941387e-01,\n",
       "        -7.81621138e-02, -3.48901598e-01, -6.23133340e-01,\n",
       "        -2.16306922e-01, -2.89110665e-01],\n",
       "       [-1.49329173e+00, -9.26535838e-01, -4.99522548e-01,\n",
       "        -2.94957624e+00,  4.32340507e-01,  1.23460795e+00,\n",
       "        -1.25326798e-01,  2.01849078e+00,  1.09669681e+00,\n",
       "        -7.81621138e-02,  1.36831388e+00,  5.24654385e-01,\n",
       "        -5.22610154e-01, -8.71837615e-01],\n",
       "       [-6.58425459e-01,  1.46152211e-01,  1.38025967e-01,\n",
       "        -2.94957624e+00,  1.61366527e+00,  1.23460795e+00,\n",
       "        -1.25326798e-01,  1.14839874e+00,  1.99769815e+00,\n",
       "        -1.08905879e+00,  6.28957215e-01, -1.89524644e-01,\n",
       "        -6.31553056e-02, -8.71837615e-01],\n",
       "       [ 1.01130708e+00,  1.46152211e-01, -1.77461958e+00,\n",
       "         3.39031752e-01,  4.32340507e-01, -5.66248758e-01,\n",
       "        -1.25326798e-01,  1.86718069e-01, -2.95759813e-01,\n",
       "        -7.81621138e-02,  2.47353776e-01,  1.93071265e-01,\n",
       "        -9.82065002e-01, -8.71837615e-01],\n",
       "       [ 1.84617334e+00,  9.62714620e-01, -6.58909677e-01,\n",
       "         3.39031752e-01, -7.48984258e-01,  1.23460795e+00,\n",
       "        -1.25326798e-01, -8.80478379e-02, -1.72917104e+00,\n",
       "         2.95452790e+00, -1.32676041e+00, -3.64862805e-02,\n",
       "        -1.28836823e+00, -1.16320109e+00],\n",
       "       [ 1.84617334e+00,  1.81285863e+00,  4.56800225e-01,\n",
       "         3.39031752e-01, -7.48984258e-01,  1.23460795e+00,\n",
       "        -1.25326798e-01,  1.10260443e+00, -1.48344340e+00,\n",
       "        -7.81621138e-02,  6.05107000e-01,  1.03478226e+00,\n",
       "        -9.82065002e-01, -5.80474140e-01],\n",
       "       [-6.58425459e-01,  1.93833300e+00, -1.61523245e+00,\n",
       "         3.39031752e-01,  4.32340507e-01,  1.23460795e+00,\n",
       "        -1.25326798e-01, -5.00196699e-01,  1.95695465e-01,\n",
       "        -7.81621138e-02, -4.20452243e-01, -3.64862805e-02,\n",
       "        -3.69458538e-01, -2.89110665e-01],\n",
       "       [-6.58425459e-01,  1.46152211e-01,  1.25373587e+00,\n",
       "        -2.94957624e+00,  4.32340507e-01, -5.66248758e-01,\n",
       "        -1.25326798e-01,  4.61483976e-01,  5.23332318e-01,\n",
       "        -7.81621138e-02, -6.82804607e-01, -8.78197279e-01,\n",
       "         1.16205762e+00,  1.02202497e+00],\n",
       "       [ 1.76440809e-01,  9.09665356e-01, -1.29645819e+00,\n",
       "         3.39031752e-01, -7.48984258e-01, -5.66248758e-01,\n",
       "        -1.25326798e-01, -9.58139877e-01, -1.31962498e+00,\n",
       "        -7.81621138e-02, -8.49756112e-01, -8.78197279e-01,\n",
       "         8.55754391e-01,  1.02202497e+00],\n",
       "       [ 1.76440809e-01,  3.35889965e-01, -2.13611616e-02,\n",
       "        -2.94957624e+00,  4.32340507e-01, -5.66248758e-01,\n",
       "        -1.25326798e-01, -9.58139877e-01,  2.77604678e-01,\n",
       "        -7.81621138e-02, -5.39703318e-01, -1.20978040e+00,\n",
       "         2.99987702e+00,  2.77020582e+00],\n",
       "       [ 1.01130708e+00,  1.46152211e-01,  1.25373587e+00,\n",
       "        -2.94957624e+00,  4.32340507e-01, -5.66248758e-01,\n",
       "        -1.25326798e-01, -1.79636474e-01,  7.69059957e-01,\n",
       "        -7.81621138e-02, -6.82804607e-01, -1.28629958e+00,\n",
       "         1.77466409e+00,  2.18747887e+00],\n",
       "       [ 1.76440809e-01,  1.16806527e+00, -1.77461958e+00,\n",
       "         3.39031752e-01,  4.32340507e-01, -5.66248758e-01,\n",
       "        -1.25326798e-01,  2.52222828e+00,  8.50969170e-01,\n",
       "        -7.81621138e-02,  1.28102701e-01,  9.58263081e-01,\n",
       "        -1.28836823e+00, -1.60024630e+00],\n",
       "       [-1.49329173e+00, -2.34223024e+00,  1.09434874e+00,\n",
       "         3.39031752e-01,  4.32340507e-01, -5.66248758e-01,\n",
       "        -1.25326798e-01,  2.78306705e-01,  4.41423105e-01,\n",
       "        -7.81621138e-02, -8.65492336e-02, -2.66043826e-01,\n",
       "         5.49451159e-01,  4.39298023e-01],\n",
       "       [-1.49329173e+00, -2.34223024e+00,  1.09434874e+00,\n",
       "         3.39031752e-01,  4.32340507e-01, -5.66248758e-01,\n",
       "        -1.25326798e-01,  2.78306705e-01,  4.41423105e-01,\n",
       "        -7.81621138e-02, -8.65492336e-02, -2.66043826e-01,\n",
       "         2.43147927e-01,  1.47934548e-01],\n",
       "       [-1.49329173e+00, -2.63052026e-01, -1.29645819e+00,\n",
       "         3.39031752e-01,  1.61366527e+00, -5.66248758e-01,\n",
       "        -1.25326798e-01, -5.91785334e-01,  2.44819883e+00,\n",
       "        -7.81621138e-02, -8.65492336e-02, -3.68069401e-01,\n",
       "        -2.16306922e-01, -1.43428927e-01],\n",
       "       [ 1.01130708e+00, -4.84723813e-01,  7.75574482e-01,\n",
       "         3.39031752e-01,  4.32340507e-01, -5.66248758e-01,\n",
       "        -1.25326798e-01,  2.78306705e-01,  9.32878383e-01,\n",
       "        -7.81621138e-02, -1.10399449e-01,  1.93071265e-01,\n",
       "        -6.75761770e-01, -4.34792402e-01],\n",
       "       [-2.32815799e+00, -5.22908756e-01,  1.41312300e+00,\n",
       "         3.39031752e-01,  4.32340507e-01,  1.23460795e+00,\n",
       "        -1.25326798e-01,  5.98866930e-01,  9.73832990e-01,\n",
       "        -7.81621138e-02,  3.66604850e-01,  2.95096840e-01,\n",
       "        -2.16306922e-01, -4.34792402e-01],\n",
       "       [ 1.76440809e-01,  1.46152211e-01, -9.77683934e-01,\n",
       "         3.39031752e-01,  4.32340507e-01, -5.66248758e-01,\n",
       "        -1.25326798e-01, -1.04972851e+00, -7.46260485e-01,\n",
       "        -7.81621138e-02, -8.49756112e-01, -8.27184491e-01,\n",
       "         1.92781570e+00,  1.75043366e+00],\n",
       "       [-6.58425459e-01, -5.61466240e-01,  9.34961611e-01,\n",
       "         3.39031752e-01,  4.32340507e-01, -5.66248758e-01,\n",
       "        -1.25326798e-01, -2.25430791e-01, -5.41487453e-01,\n",
       "         9.32734558e-01, -4.20452243e-01, -5.21107765e-01,\n",
       "         1.00890601e+00,  8.76343235e-01],\n",
       "       [ 1.01130708e+00, -1.37612356e+00,  9.34961611e-01,\n",
       "         3.39031752e-01, -7.48984258e-01, -5.66248758e-01,\n",
       "        -1.25326798e-01, -1.04972851e+00, -5.00321740e-02,\n",
       "         9.32734558e-01, -4.20452243e-01, -7.50665310e-01,\n",
       "         8.99963105e-02,  2.25281037e-03],\n",
       "       [ 1.84617334e+00,  1.04097680e+00, -1.80748290e-01,\n",
       "         3.39031752e-01, -7.48984258e-01, -5.66248758e-01,\n",
       "        -1.25326798e-01, -2.25430791e-01, -1.81108026e+00,\n",
       "        -7.81621138e-02, -8.65492336e-02, -3.68069401e-01,\n",
       "        -6.31553056e-02,  1.47934548e-01],\n",
       "       [-6.58425459e-01,  1.24240183e+00,  1.38025967e-01,\n",
       "        -2.94957624e+00,  4.32340507e-01,  1.23460795e+00,\n",
       "        -1.25326798e-01,  1.14839874e+00,  1.17860602e+00,\n",
       "        -1.08905879e+00,  6.28957215e-01, -1.89524644e-01,\n",
       "         3.96299543e-01,  2.93616285e-01],\n",
       "       [ 1.01130708e+00, -8.84266870e-01,  1.25373587e+00,\n",
       "        -2.94957624e+00,  4.32340507e-01, -5.66248758e-01,\n",
       "        -1.25326798e-01, -1.79636474e-01,  7.69059957e-01,\n",
       "        -7.81621138e-02, -6.82804607e-01, -1.28629958e+00,\n",
       "         1.77466409e+00,  2.18747887e+00],\n",
       "       [-2.32815799e+00, -5.22908756e-01,  1.41312300e+00,\n",
       "         3.39031752e-01,  4.32340507e-01,  1.23460795e+00,\n",
       "        -1.25326798e-01,  5.98866930e-01,  9.73832990e-01,\n",
       "        -7.81621138e-02,  1.04252486e-01,  1.51940375e+00,\n",
       "        -1.28836823e+00, -1.30888283e+00]])"
      ]
     },
     "execution_count": 127,
     "metadata": {},
     "output_type": "execute_result"
    }
   ],
   "source": [
    "X_test\n"
   ]
  },
  {
   "cell_type": "code",
   "execution_count": 128,
   "id": "13929009",
   "metadata": {},
   "outputs": [
    {
     "data": {
      "text/plain": [
       "144     9233\n",
       "152     6488\n",
       "166     9538\n",
       "82     12629\n",
       "74     45400\n",
       "       ...  \n",
       "46     11048\n",
       "22      6377\n",
       "75     16503\n",
       "15     30760\n",
       "175     9988\n",
       "Name: price, Length: 129, dtype: int64"
      ]
     },
     "execution_count": 128,
     "metadata": {},
     "output_type": "execute_result"
    }
   ],
   "source": [
    "y_train\n"
   ]
  },
  {
   "cell_type": "code",
   "execution_count": 129,
   "id": "8f07ab4f",
   "metadata": {},
   "outputs": [
    {
     "data": {
      "text/plain": [
       "23      7957\n",
       "129    12000\n",
       "36      7295\n",
       "10     16430\n",
       "51      6095\n",
       "       ...  \n",
       "139     7053\n",
       "81      8499\n",
       "116    17950\n",
       "184     7995\n",
       "198    18420\n",
       "Name: price, Length: 65, dtype: int64"
      ]
     },
     "execution_count": 129,
     "metadata": {},
     "output_type": "execute_result"
    }
   ],
   "source": [
    "y_test"
   ]
  },
  {
   "cell_type": "code",
   "execution_count": 130,
   "id": "fa68fabf",
   "metadata": {},
   "outputs": [
    {
     "data": {
      "text/plain": [
       "(129, 14)"
      ]
     },
     "execution_count": 130,
     "metadata": {},
     "output_type": "execute_result"
    }
   ],
   "source": [
    "X_train.shape\n"
   ]
  },
  {
   "cell_type": "code",
   "execution_count": 131,
   "id": "4caa34c7",
   "metadata": {},
   "outputs": [
    {
     "data": {
      "text/plain": [
       "(65, 14)"
      ]
     },
     "execution_count": 131,
     "metadata": {},
     "output_type": "execute_result"
    }
   ],
   "source": [
    "X_test.shape"
   ]
  },
  {
   "cell_type": "code",
   "execution_count": 132,
   "id": "7a401e95",
   "metadata": {},
   "outputs": [
    {
     "data": {
      "text/plain": [
       "(65,)"
      ]
     },
     "execution_count": 132,
     "metadata": {},
     "output_type": "execute_result"
    }
   ],
   "source": [
    "y_test.shape"
   ]
  },
  {
   "cell_type": "code",
   "execution_count": 133,
   "id": "c02e2ce9",
   "metadata": {},
   "outputs": [
    {
     "data": {
      "text/plain": [
       "(129,)"
      ]
     },
     "execution_count": 133,
     "metadata": {},
     "output_type": "execute_result"
    }
   ],
   "source": [
    "y_train.shape"
   ]
  },
  {
   "cell_type": "code",
   "execution_count": 134,
   "id": "82768e0c",
   "metadata": {},
   "outputs": [],
   "source": [
    "from sklearn.linear_model import LinearRegression"
   ]
  },
  {
   "cell_type": "code",
   "execution_count": 135,
   "id": "dce6605d",
   "metadata": {},
   "outputs": [],
   "source": [
    "lrmodel=LinearRegression()"
   ]
  },
  {
   "cell_type": "code",
   "execution_count": 136,
   "id": "bd57b8d5",
   "metadata": {},
   "outputs": [
    {
     "data": {
      "text/html": [
       "<style>#sk-container-id-2 {color: black;background-color: white;}#sk-container-id-2 pre{padding: 0;}#sk-container-id-2 div.sk-toggleable {background-color: white;}#sk-container-id-2 label.sk-toggleable__label {cursor: pointer;display: block;width: 100%;margin-bottom: 0;padding: 0.3em;box-sizing: border-box;text-align: center;}#sk-container-id-2 label.sk-toggleable__label-arrow:before {content: \"▸\";float: left;margin-right: 0.25em;color: #696969;}#sk-container-id-2 label.sk-toggleable__label-arrow:hover:before {color: black;}#sk-container-id-2 div.sk-estimator:hover label.sk-toggleable__label-arrow:before {color: black;}#sk-container-id-2 div.sk-toggleable__content {max-height: 0;max-width: 0;overflow: hidden;text-align: left;background-color: #f0f8ff;}#sk-container-id-2 div.sk-toggleable__content pre {margin: 0.2em;color: black;border-radius: 0.25em;background-color: #f0f8ff;}#sk-container-id-2 input.sk-toggleable__control:checked~div.sk-toggleable__content {max-height: 200px;max-width: 100%;overflow: auto;}#sk-container-id-2 input.sk-toggleable__control:checked~label.sk-toggleable__label-arrow:before {content: \"▾\";}#sk-container-id-2 div.sk-estimator input.sk-toggleable__control:checked~label.sk-toggleable__label {background-color: #d4ebff;}#sk-container-id-2 div.sk-label input.sk-toggleable__control:checked~label.sk-toggleable__label {background-color: #d4ebff;}#sk-container-id-2 input.sk-hidden--visually {border: 0;clip: rect(1px 1px 1px 1px);clip: rect(1px, 1px, 1px, 1px);height: 1px;margin: -1px;overflow: hidden;padding: 0;position: absolute;width: 1px;}#sk-container-id-2 div.sk-estimator {font-family: monospace;background-color: #f0f8ff;border: 1px dotted black;border-radius: 0.25em;box-sizing: border-box;margin-bottom: 0.5em;}#sk-container-id-2 div.sk-estimator:hover {background-color: #d4ebff;}#sk-container-id-2 div.sk-parallel-item::after {content: \"\";width: 100%;border-bottom: 1px solid gray;flex-grow: 1;}#sk-container-id-2 div.sk-label:hover label.sk-toggleable__label {background-color: #d4ebff;}#sk-container-id-2 div.sk-serial::before {content: \"\";position: absolute;border-left: 1px solid gray;box-sizing: border-box;top: 0;bottom: 0;left: 50%;z-index: 0;}#sk-container-id-2 div.sk-serial {display: flex;flex-direction: column;align-items: center;background-color: white;padding-right: 0.2em;padding-left: 0.2em;position: relative;}#sk-container-id-2 div.sk-item {position: relative;z-index: 1;}#sk-container-id-2 div.sk-parallel {display: flex;align-items: stretch;justify-content: center;background-color: white;position: relative;}#sk-container-id-2 div.sk-item::before, #sk-container-id-2 div.sk-parallel-item::before {content: \"\";position: absolute;border-left: 1px solid gray;box-sizing: border-box;top: 0;bottom: 0;left: 50%;z-index: -1;}#sk-container-id-2 div.sk-parallel-item {display: flex;flex-direction: column;z-index: 1;position: relative;background-color: white;}#sk-container-id-2 div.sk-parallel-item:first-child::after {align-self: flex-end;width: 50%;}#sk-container-id-2 div.sk-parallel-item:last-child::after {align-self: flex-start;width: 50%;}#sk-container-id-2 div.sk-parallel-item:only-child::after {width: 0;}#sk-container-id-2 div.sk-dashed-wrapped {border: 1px dashed gray;margin: 0 0.4em 0.5em 0.4em;box-sizing: border-box;padding-bottom: 0.4em;background-color: white;}#sk-container-id-2 div.sk-label label {font-family: monospace;font-weight: bold;display: inline-block;line-height: 1.2em;}#sk-container-id-2 div.sk-label-container {text-align: center;}#sk-container-id-2 div.sk-container {/* jupyter's `normalize.less` sets `[hidden] { display: none; }` but bootstrap.min.css set `[hidden] { display: none !important; }` so we also need the `!important` here to be able to override the default hidden behavior on the sphinx rendered scikit-learn.org. See: https://github.com/scikit-learn/scikit-learn/issues/21755 */display: inline-block !important;position: relative;}#sk-container-id-2 div.sk-text-repr-fallback {display: none;}</style><div id=\"sk-container-id-2\" class=\"sk-top-container\"><div class=\"sk-text-repr-fallback\"><pre>LinearRegression()</pre><b>In a Jupyter environment, please rerun this cell to show the HTML representation or trust the notebook. <br />On GitHub, the HTML representation is unable to render, please try loading this page with nbviewer.org.</b></div><div class=\"sk-container\" hidden><div class=\"sk-item\"><div class=\"sk-estimator sk-toggleable\"><input class=\"sk-toggleable__control sk-hidden--visually\" id=\"sk-estimator-id-2\" type=\"checkbox\" checked><label for=\"sk-estimator-id-2\" class=\"sk-toggleable__label sk-toggleable__label-arrow\">LinearRegression</label><div class=\"sk-toggleable__content\"><pre>LinearRegression()</pre></div></div></div></div></div>"
      ],
      "text/plain": [
       "LinearRegression()"
      ]
     },
     "execution_count": 136,
     "metadata": {},
     "output_type": "execute_result"
    }
   ],
   "source": [
    "lrmodel.fit(X_train,y_train)"
   ]
  },
  {
   "cell_type": "code",
   "execution_count": 137,
   "id": "014790e3",
   "metadata": {},
   "outputs": [],
   "source": [
    "yp=lrmodel.predict(X_test)"
   ]
  },
  {
   "cell_type": "code",
   "execution_count": 138,
   "id": "9ab2e40b",
   "metadata": {},
   "outputs": [
    {
     "data": {
      "text/plain": [
       "array([ 9108.5466582 , 31152.71681662,  9611.78636284, 12605.45506546,\n",
       "        7646.40554632, 19950.48606872, 15103.25708448,  5475.16904407,\n",
       "        6603.13823316, 14751.03277199, 14381.48348097, 13178.13448106,\n",
       "       17789.51623834, 21278.32746866, 15022.17266303, 12847.00697298,\n",
       "       19989.38260375,  5714.25378405, 12683.82900706, 26028.592436  ,\n",
       "        8814.99937075, 12177.80435971, 31938.43335046, 12093.0920979 ,\n",
       "        9058.63518823, 26188.59104016, 16960.55229055, 31576.91936894,\n",
       "       17724.15786365, 17789.51623834,  9604.37496587, 15233.22890858,\n",
       "       13088.64723691,  9179.75104353, 33647.54929102,  7066.46484101,\n",
       "        6012.31956606,  7946.71537872, 22870.65141527,  6357.84991545,\n",
       "       16858.08938541,  9098.69287121, 25670.8576022 , 19873.84675545,\n",
       "       16123.07375278,  8814.99937075, 17757.27080524, 11990.31753571,\n",
       "        8477.83438002,  6083.80307507,  6956.71677908,  7058.18599727,\n",
       "       21125.92550862, 11604.84026997, 11716.3313158 , 13073.30607153,\n",
       "       13178.13448106, 15218.72667763,  5924.47561554,  7737.62934181,\n",
       "        8179.99920561, 10111.05193423, 18409.48882921,  7603.92577491,\n",
       "       16384.44110154])"
      ]
     },
     "execution_count": 138,
     "metadata": {},
     "output_type": "execute_result"
    }
   ],
   "source": [
    "yp"
   ]
  },
  {
   "cell_type": "code",
   "execution_count": 139,
   "id": "4bb13c0a",
   "metadata": {},
   "outputs": [],
   "source": [
    "residual=y_test-yp"
   ]
  },
  {
   "cell_type": "code",
   "execution_count": 140,
   "id": "7b82553b",
   "metadata": {},
   "outputs": [
    {
     "data": {
      "text/plain": [
       "23     -1151.546658\n",
       "129   -19152.716817\n",
       "36     -2316.786363\n",
       "10      3824.544935\n",
       "51     -1551.405546\n",
       "           ...     \n",
       "139    -1126.999206\n",
       "81     -1612.051934\n",
       "116     -459.488829\n",
       "184      391.074225\n",
       "198     2035.558898\n",
       "Name: price, Length: 65, dtype: float64"
      ]
     },
     "execution_count": 140,
     "metadata": {},
     "output_type": "execute_result"
    }
   ],
   "source": [
    "residual"
   ]
  },
  {
   "cell_type": "code",
   "execution_count": 141,
   "id": "586fe451",
   "metadata": {},
   "outputs": [
    {
     "name": "stderr",
     "output_type": "stream",
     "text": [
      "C:\\Users\\P NAVYASRI\\AppData\\Local\\Temp\\ipykernel_11416\\1108040850.py:1: UserWarning: \n",
      "\n",
      "`distplot` is a deprecated function and will be removed in seaborn v0.14.0.\n",
      "\n",
      "Please adapt your code to use either `displot` (a figure-level function with\n",
      "similar flexibility) or `histplot` (an axes-level function for histograms).\n",
      "\n",
      "For a guide to updating your code to use the new functions, please see\n",
      "https://gist.github.com/mwaskom/de44147ed2974457ad6372750bbe5751\n",
      "\n",
      "  sns.distplot(residual)\n"
     ]
    },
    {
     "data": {
      "text/plain": [
       "<AxesSubplot: xlabel='price', ylabel='Density'>"
      ]
     },
     "execution_count": 141,
     "metadata": {},
     "output_type": "execute_result"
    },
    {
     "data": {
      "image/png": "[encoded data removed]",
      "text/plain": [
       "<Figure size 640x480 with 1 Axes>"
      ]
     },
     "metadata": {},
     "output_type": "display_data"
    }
   ],
   "source": [
    "sns.distplot(residual)"
   ]
  },
  {
   "cell_type": "code",
   "execution_count": 142,
   "id": "88ae8274",
   "metadata": {},
   "outputs": [
    {
     "data": {
      "text/plain": [
       "13050.685108023268"
      ]
     },
     "execution_count": 142,
     "metadata": {},
     "output_type": "execute_result"
    }
   ],
   "source": [
    "lrmodel.intercept_"
   ]
  },
  {
   "cell_type": "code",
   "execution_count": 143,
   "id": "fba01e8b",
   "metadata": {},
   "outputs": [
    {
     "data": {
      "text/plain": [
       "array([ 3.68404829e+02, -5.29628952e+02, -1.13558198e+03, -3.20061200e+02,\n",
       "       -3.12826161e+02,  7.76807607e+02,  1.22489484e+03,  1.65085759e+03,\n",
       "        8.07195383e+02,  2.92570260e+00,  3.71651531e+03,  1.49922530e+03,\n",
       "        1.90882884e+02, -5.83323254e+02])"
      ]
     },
     "execution_count": 143,
     "metadata": {},
     "output_type": "execute_result"
    }
   ],
   "source": [
    "lrmodel.coef_"
   ]
  },
  {
   "cell_type": "code",
   "execution_count": 157,
   "id": "c1f78cd7",
   "metadata": {},
   "outputs": [],
   "source": [
    "#pd.DataFrame(lrmodel.coef_,index=X.columns,columns=[\"coff\"])"
   ]
  },
  {
   "cell_type": "code",
   "execution_count": 158,
   "id": "0456148a",
   "metadata": {},
   "outputs": [],
   "source": [
    "from sklearn.metrics import mean_absolute_error,mean_squared_error,r2_score"
   ]
  },
  {
   "cell_type": "code",
   "execution_count": 159,
   "id": "5fcc431b",
   "metadata": {},
   "outputs": [],
   "source": [
    "mae=mean_absolute_error(y_test,yp)\n",
    "mse=mean_squared_error(y_test,yp)\n",
    "rmse=np.sqrt(mse)\n",
    "r2=r2_score(y_test,yp)  # accuracy"
   ]
  },
  {
   "cell_type": "code",
   "execution_count": 160,
   "id": "097e391f",
   "metadata": {},
   "outputs": [
    {
     "name": "stdout",
     "output_type": "stream",
     "text": [
      "2552.863894972478\n",
      "13145807.778393116\n",
      "3625.714795511792\n",
      "0.7593851184227336\n"
     ]
    }
   ],
   "source": [
    "print(mae,mse,rmse,r2,sep=\"\\n\")"
   ]
  },
  {
   "cell_type": "code",
   "execution_count": 161,
   "id": "c9fc3091",
   "metadata": {},
   "outputs": [
    {
     "data": {
      "text/plain": [
       "0.8840526482307732"
      ]
     },
     "execution_count": 161,
     "metadata": {},
     "output_type": "execute_result"
    }
   ],
   "source": [
    "lrmodel.score(X_train,y_train)"
   ]
  },
  {
   "cell_type": "code",
   "execution_count": 162,
   "id": "ae267d73",
   "metadata": {},
   "outputs": [
    {
     "data": {
      "text/plain": [
       "0.7593851184227336"
      ]
     },
     "execution_count": 162,
     "metadata": {},
     "output_type": "execute_result"
    }
   ],
   "source": [
    "lrmodel.score(X_test,y_test)"
   ]
  },
  {
   "cell_type": "code",
   "execution_count": null,
   "id": "9332087d",
   "metadata": {},
   "outputs": [],
   "source": []
  },
  {
   "cell_type": "code",
   "execution_count": null,
   "id": "7229560d",
   "metadata": {},
   "outputs": [],
   "source": []
  },
  {
   "cell_type": "code",
   "execution_count": null,
   "id": "ab792b72",
   "metadata": {},
   "outputs": [],
   "source": []
  },
  {
   "cell_type": "code",
   "execution_count": null,
   "id": "21708227",
   "metadata": {},
   "outputs": [],
   "source": []
  },
  {
   "cell_type": "code",
   "execution_count": null,
   "id": "e1e10119",
   "metadata": {},
   "outputs": [],
   "source": []
  },
  {
   "cell_type": "code",
   "execution_count": null,
   "id": "e9e89f64",
   "metadata": {},
   "outputs": [],
   "source": []
  },
  {
   "cell_type": "code",
   "execution_count": null,
   "id": "bbeeae04",
   "metadata": {},
   "outputs": [],
   "source": []
  },
  {
   "cell_type": "code",
   "execution_count": null,
   "id": "18cbbf12",
   "metadata": {},
   "outputs": [],
   "source": []
  },
  {
   "cell_type": "code",
   "execution_count": null,
   "id": "762450c0",
   "metadata": {},
   "outputs": [],
   "source": []
  },
  {
   "cell_type": "code",
   "execution_count": null,
   "id": "0747e0cc",
   "metadata": {},
   "outputs": [],
   "source": []
  },
  {
   "cell_type": "code",
   "execution_count": null,
   "id": "01f93138",
   "metadata": {},
   "outputs": [],
   "source": []
  },
  {
   "cell_type": "code",
   "execution_count": null,
   "id": "7409cf71",
   "metadata": {},
   "outputs": [],
   "source": []
  },
  {
   "cell_type": "code",
   "execution_count": null,
   "id": "85e2469f",
   "metadata": {},
   "outputs": [],
   "source": []
  },
  {
   "cell_type": "code",
   "execution_count": null,
   "id": "7cb1b6ba",
   "metadata": {},
   "outputs": [],
   "source": []
  },
  {
   "cell_type": "code",
   "execution_count": null,
   "id": "1efb482b",
   "metadata": {},
   "outputs": [],
   "source": []
  },
  {
   "cell_type": "code",
   "execution_count": null,
   "id": "660bb9f4",
   "metadata": {},
   "outputs": [],
   "source": []
  },
  {
   "cell_type": "code",
   "execution_count": null,
   "id": "af93bc61",
   "metadata": {},
   "outputs": [],
   "source": []
  },
  {
   "cell_type": "code",
   "execution_count": null,
   "id": "80360b4d",
   "metadata": {},
   "outputs": [],
   "source": []
  },
  {
   "cell_type": "code",
   "execution_count": null,
   "id": "aa9ee58a",
   "metadata": {},
   "outputs": [],
   "source": []
  },
  {
   "cell_type": "code",
   "execution_count": null,
   "id": "05209804",
   "metadata": {},
   "outputs": [],
   "source": []
  },
  {
   "cell_type": "code",
   "execution_count": null,
   "id": "27707dda",
   "metadata": {},
   "outputs": [],
   "source": []
  },
  {
   "cell_type": "code",
   "execution_count": null,
   "id": "cd07404d",
   "metadata": {},
   "outputs": [],
   "source": []
  },
  {
   "cell_type": "code",
   "execution_count": null,
   "id": "9c4e377d",
   "metadata": {},
   "outputs": [],
   "source": []
  },
  {
   "cell_type": "code",
   "execution_count": null,
   "id": "b9b32d5a",
   "metadata": {},
   "outputs": [],
   "source": []
  },
  {
   "cell_type": "code",
   "execution_count": null,
   "id": "13cca951",
   "metadata": {},
   "outputs": [],
   "source": []
  },
  {
   "cell_type": "code",
   "execution_count": null,
   "id": "e222068c",
   "metadata": {},
   "outputs": [],
   "source": []
  },
  {
   "cell_type": "code",
   "execution_count": null,
   "id": "1d05017d",
   "metadata": {},
   "outputs": [],
   "source": []
  },
  {
   "cell_type": "code",
   "execution_count": null,
   "id": "f2599142",
   "metadata": {},
   "outputs": [],
   "source": []
  },
  {
   "cell_type": "code",
   "execution_count": null,
   "id": "53ecb604",
   "metadata": {},
   "outputs": [],
   "source": []
  }
 ],
 "metadata": {
  "kernelspec": {
   "display_name": "Python 3 (ipykernel)",
   "language": "python",
   "name": "python3"
  },
  "language_info": {
   "codemirror_mode": {
    "name": "ipython",
    "version": 3
   },
   "file_extension": ".py",
   "mimetype": "text/x-python",
   "name": "python",
   "nbconvert_exporter": "python",
   "pygments_lexer": "ipython3",
   "version": "3.10.9"
  }
 },
 "nbformat": 4,
 "nbformat_minor": 5
}
